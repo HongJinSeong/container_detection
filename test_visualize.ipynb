{
 "cells": [
  {
   "cell_type": "code",
   "execution_count": 1,
   "id": "bbdd3433-e3cd-4f7b-87ea-5120cd054652",
   "metadata": {
    "tags": []
   },
   "outputs": [
    {
     "name": "stdout",
     "output_type": "stream",
     "text": [
      "1.0.0rc1\n",
      "3.1.0\n",
      "11.1\n",
      "GCC 7.3\n"
     ]
    }
   ],
   "source": [
    "## mmrotate1.x기반으로 진행 \n",
    "# Check MMRotate installation\n",
    "import mmrotate\n",
    "print(mmrotate.__version__)\n",
    "# Check MMDetection installation\n",
    "import mmdet\n",
    "print(mmdet.__version__)\n",
    "\n",
    "# Check mmcv installation\n",
    "from mmcv.ops import get_compiling_cuda_version, get_compiler_version\n",
    "print(get_compiling_cuda_version())\n",
    "print(get_compiler_version())"
   ]
  },
  {
   "cell_type": "code",
   "execution_count": 2,
   "id": "63f90fd1-d867-475a-b1cd-f85e68af320e",
   "metadata": {},
   "outputs": [],
   "source": [
    "## config LOAD\n",
    "from mmengine.config import Config\n",
    "cfg = Config.fromfile('custom_CONFIG_HJS_VER1.py')"
   ]
  },
  {
   "cell_type": "code",
   "execution_count": 3,
   "id": "66d5b3e4-9e9e-4ed5-9de5-62fe959d3d38",
   "metadata": {},
   "outputs": [
    {
     "name": "stdout",
     "output_type": "stream",
     "text": [
      "Loads checkpoint by local backend from path: ver1/epoch_2790.pth\n"
     ]
    }
   ],
   "source": [
    "from mmdet.apis import init_detector, inference_detector\n",
    "import mmrotate\n",
    "\n",
    "checkpoint_file = 'ver1/epoch_2790.pth'\n",
    "model = init_detector(cfg, checkpoint_file, device='cuda:0')"
   ]
  },
  {
   "cell_type": "code",
   "execution_count": 4,
   "id": "4fdae03b-4b3f-482b-9270-8fb396695d59",
   "metadata": {},
   "outputs": [],
   "source": [
    "import json\n",
    "import glob as _glob\n",
    "import os\n",
    "import random\n",
    "import math\n",
    "import numpy as np\n",
    "import csv\n",
    "\n",
    "def glob(dir, pats, recursive=False):  # faster than match, python3 only\n",
    "    pats = pats if isinstance(pats, (list, tuple)) else [pats]\n",
    "    matches = []\n",
    "    for pat in pats:\n",
    "        matches += _glob.glob(os.path.join(dir, pat), recursive=recursive)\n",
    "    return matches\n",
    "\n",
    "csv.register_dialect(\n",
    "    'mydialect',\n",
    "    delimiter = ',',\n",
    "    quotechar = '\"',\n",
    "    doublequote = True,\n",
    "    skipinitialspace = True,\n",
    "    lineterminator = '\\r\\n',\n",
    "    quoting = csv.QUOTE_MINIMAL)\n",
    "\n",
    "def writecsv(csvname,contents):\n",
    "    f = open(csvname, 'a', newline='')\n",
    "    wr = csv.writer(f)\n",
    "    wr.writerow(contents)\n",
    "    f.close()\n",
    "    \n",
    "def convert_xywha_to_8coords(xywha, is_clockwise=True):\n",
    "    x, y, w, h, a = xywha\n",
    "    angle = a if is_clockwise else -a\n",
    "\n",
    "    lt_x, lt_y = -w / 2, -h / 2\n",
    "    rt_x, rt_y = w / 2, - h/ 2\n",
    "    rb_x, rb_y = w / 2, h / 2\n",
    "    lb_x, lb_y = - w / 2, h / 2\n",
    "\n",
    "    lt_x_ = lt_x * math.cos(angle) - lt_y * math.sin(angle) + x\n",
    "    lt_y_ = lt_x * math.sin(angle) + lt_y * math.cos(angle) + y\n",
    "    rt_x_ = rt_x * math.cos(angle) - rt_y * math.sin(angle) + x\n",
    "    rt_y_ = rt_x * math.sin(angle) + rt_y * math.cos(angle) + y\n",
    "    lb_x_ = lb_x * math.cos(angle) - lb_y * math.sin(angle) + x\n",
    "    lb_y_ = lb_x * math.sin(angle) + lb_y * math.cos(angle) + y\n",
    "    rb_x_ = rb_x * math.cos(angle) - rb_y * math.sin(angle) + x\n",
    "    rb_y_ = rb_x * math.sin(angle) + rb_y * math.cos(angle) + y\n",
    "\n",
    "    return [lt_x_, lt_y_, rt_x_, rt_y_, rb_x_, rb_y_, lb_x_, lb_y_]"
   ]
  },
  {
   "cell_type": "code",
   "execution_count": 5,
   "id": "a4d2d786-7fee-4166-b8e5-00a2dd6fc143",
   "metadata": {},
   "outputs": [],
   "source": [
    "all_imgs = glob('container_dataset/valid_images','*.png')\n",
    "all_imgs.sort()\n",
    "all_imgs[:5]\n",
    "all_imgs=all_imgs"
   ]
  },
  {
   "cell_type": "code",
   "execution_count": 6,
   "id": "700566fc-5115-4b38-95eb-f8f98ba98d18",
   "metadata": {},
   "outputs": [
    {
     "name": "stdout",
     "output_type": "stream",
     "text": [
      "10  END!\n",
      "20  END!\n",
      "30  END!\n",
      "40  END!\n",
      "50  END!\n",
      "60  END!\n",
      "70  END!\n",
      "80  END!\n",
      "90  END!\n",
      "100  END!\n",
      "110  END!\n"
     ]
    },
    {
     "ename": "KeyboardInterrupt",
     "evalue": "",
     "output_type": "error",
     "traceback": [
      "\u001b[0;31m---------------------------------------------------------------------------\u001b[0m",
      "\u001b[0;31mKeyboardInterrupt\u001b[0m                         Traceback (most recent call last)",
      "Cell \u001b[0;32mIn[6], line 16\u001b[0m\n\u001b[1;32m     14\u001b[0m         test_pos \u001b[38;5;241m=\u001b[39m np\u001b[38;5;241m.\u001b[39marray([[test_pos[\u001b[38;5;241m0\u001b[39m:\u001b[38;5;241m2\u001b[39m]], [test_pos[\u001b[38;5;241m2\u001b[39m:\u001b[38;5;241m4\u001b[39m]], [test_pos[\u001b[38;5;241m4\u001b[39m:\u001b[38;5;241m6\u001b[39m]], [test_pos[\u001b[38;5;241m6\u001b[39m:\u001b[38;5;241m8\u001b[39m]]], np\u001b[38;5;241m.\u001b[39mint32)\n\u001b[1;32m     15\u001b[0m         img \u001b[38;5;241m=\u001b[39m cv2\u001b[38;5;241m.\u001b[39mpolylines(img, [test_pos], \u001b[38;5;28;01mTrue\u001b[39;00m, (\u001b[38;5;241m255\u001b[39m, \u001b[38;5;241m255\u001b[39m, \u001b[38;5;241m255\u001b[39m), \u001b[38;5;241m2\u001b[39m)\n\u001b[0;32m---> 16\u001b[0m         \u001b[43mcv2\u001b[49m\u001b[38;5;241;43m.\u001b[39;49m\u001b[43mimwrite\u001b[49m\u001b[43m(\u001b[49m\u001b[38;5;124;43m'\u001b[39;49m\u001b[38;5;124;43mvisualize_folder/\u001b[39;49m\u001b[38;5;124;43m'\u001b[39;49m\u001b[38;5;241;43m+\u001b[39;49m\u001b[43mFile\u001b[49m\u001b[38;5;241;43m+\u001b[39;49m\u001b[38;5;124;43m'\u001b[39;49m\u001b[38;5;124;43m.png\u001b[39;49m\u001b[38;5;124;43m'\u001b[39;49m\u001b[43m,\u001b[49m\u001b[43mimg\u001b[49m\u001b[43m)\u001b[49m\n\u001b[1;32m     17\u001b[0m nn\u001b[38;5;241m+\u001b[39m\u001b[38;5;241m=\u001b[39m\u001b[38;5;241m1\u001b[39m\n\u001b[1;32m     18\u001b[0m \u001b[38;5;28;01mif\u001b[39;00m nn\u001b[38;5;241m%\u001b[39m\u001b[38;5;241m10\u001b[39m\u001b[38;5;241m==\u001b[39m\u001b[38;5;241m0\u001b[39m:\n",
      "\u001b[0;31mKeyboardInterrupt\u001b[0m: "
     ]
    }
   ],
   "source": [
    "## inference 진행시에 test pipeline 거치기 때문에 test pipeline을 학습시에도 미리 set해두기 (5120,5120)\n",
    "## 계획 ==> 이미지를 1024 patch로 640 stride로 inference\n",
    "from mmrotate.apis import inference_detector_by_patches\n",
    "import cv2\n",
    "\n",
    "nn = 0\n",
    "for img_nm in all_imgs:\n",
    "    img = cv2.imread(img_nm)\n",
    "    results=inference_detector_by_patches(model, img_nm, [1024], [512], [4.5, 5, 5.5], dict(type='nms_rotated', iou_threshold=0.1))\n",
    "    File = img_nm.split('/')[-1][:8]\n",
    "    for i in range(results.pred_instances.scores.shape[0]):\n",
    "        if results.pred_instances.scores[i] >= 0.1:\n",
    "            test_pos = list(convert_xywha_to_8coords(results.pred_instances.bboxes[i].cpu().numpy()))\n",
    "            test_pos = np.array([[test_pos[0:2]], [test_pos[2:4]], [test_pos[4:6]], [test_pos[6:8]]], np.int32)\n",
    "            img = cv2.polylines(img, [test_pos], True, (255, 255, 255), 2)\n",
    "            cv2.imwrite('visualize_folder/'+File+'.png',img)\n",
    "    nn+=1\n",
    "    if nn%10==0:\n",
    "        print(nn,' END!')\n",
    "\n"
   ]
  },
  {
   "cell_type": "code",
   "execution_count": null,
   "id": "56511209-7450-4790-979e-fe3e13fc409c",
   "metadata": {},
   "outputs": [],
   "source": []
  }
 ],
 "metadata": {
  "kernelspec": {
   "display_name": "Python 3 (ipykernel)",
   "language": "python",
   "name": "python3"
  },
  "language_info": {
   "codemirror_mode": {
    "name": "ipython",
    "version": 3
   },
   "file_extension": ".py",
   "mimetype": "text/x-python",
   "name": "python",
   "nbconvert_exporter": "python",
   "pygments_lexer": "ipython3",
   "version": "3.8.17"
  }
 },
 "nbformat": 4,
 "nbformat_minor": 5
}
