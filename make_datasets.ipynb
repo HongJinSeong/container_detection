{
 "cells": [
  {
   "cell_type": "code",
   "execution_count": 1,
   "id": "2c980472-027b-4dec-b0bd-df9b787e56a8",
   "metadata": {},
   "outputs": [],
   "source": [
    "### 데이터셋 구조\n",
    "# container_dataset\n",
    "# ├── train_images\n",
    "# │   ├── OBJ00013_PS3_K3_NIA0078.png\n",
    "# ...................................\n",
    "# ├── train_lbl\n",
    "# │   ├── OBJ00013_PS3_K3_NIA0078.txt\n",
    "# ...................................\n",
    "# ├── valid_lbl\n",
    "# │   ├── OBJ00023_PS3_K3_NIA0010.txt\n",
    "# train_lbl과 valid_합쳐서 train_images 전체로 구성되도록 해야함\n",
    "# 이미지가 아주 많지 않기 때문에 8:2로 나누어서 먼저 진행해보기\n",
    "# 원본 라벨 데이터인 train_labels는 그대로 놔두기 \n",
    "# valid_images가 실제 실험데이터임"
   ]
  },
  {
   "cell_type": "code",
   "execution_count": 7,
   "id": "bfe5907f-af5e-4540-bce4-3ed2b783e466",
   "metadata": {},
   "outputs": [],
   "source": [
    "import json\n",
    "import glob as _glob\n",
    "import os\n",
    "import random\n",
    "import cv2"
   ]
  },
  {
   "cell_type": "code",
   "execution_count": 8,
   "id": "dd1be8d6-14ea-49a1-9d15-cf1f3786fe31",
   "metadata": {},
   "outputs": [],
   "source": [
    "def glob(dir, pats, recursive=False):  # faster than match, python3 only\n",
    "    pats = pats if isinstance(pats, (list, tuple)) else [pats]\n",
    "    matches = []\n",
    "    for pat in pats:\n",
    "        matches += _glob.glob(os.path.join(dir, pat), recursive=recursive)\n",
    "    return matches\n",
    "def csv2list(filename):\n",
    "  lists=[]\n",
    "  file=open(filename,\"r\")\n",
    "  while True:\n",
    "    line=file.readline().replace('\\n','')\n",
    "    if line:\n",
    "      line=line.split(\",\")\n",
    "      lists.append(line)\n",
    "    else:\n",
    "      break\n",
    "  return lists"
   ]
  },
  {
   "cell_type": "code",
   "execution_count": 4,
   "id": "4793f49a-5cce-42e9-ba0c-d99b03739e12",
   "metadata": {},
   "outputs": [],
   "source": [
    "all_lbls = glob('container_dataset/train_labels','*')\n",
    "random.shuffle(all_lbls)"
   ]
  },
  {
   "cell_type": "code",
   "execution_count": 5,
   "id": "7e328eec-2395-40eb-9dc7-8c7f9f4b37b2",
   "metadata": {},
   "outputs": [
    {
     "name": "stdout",
     "output_type": "stream",
     "text": [
      "['container_dataset/train_labels/OBJ00013_PS3_K3_NIA0078.json', 'container_dataset/train_labels/OBJ03780_PS3_K3A_NIA0158.json', 'container_dataset/train_labels/OBJ03422_PS3_K3A_NIA0139.json', 'container_dataset/train_labels/OBJ03730_PS3_K3A_NIA0156.json', 'container_dataset/train_labels/OBJ03652_PS3_K3A_NIA0153.json', 'container_dataset/train_labels/OBJ04768_PS3_K3A_NIA0314.json', 'container_dataset/train_labels/OBJ03413_PS3_K3A_NIA0138.json', 'container_dataset/train_labels/OBJ05720_PS3_K3A_NIA0363.json', 'container_dataset/train_labels/OBJ04640_PS3_K3A_NIA0305.json', 'container_dataset/train_labels/OBJ03964_PS3_K3A_NIA0166.json', 'container_dataset/train_labels/OBJ04440_PS3_K3A_NIA0291.json', 'container_dataset/train_labels/OBJ05677_PS3_K3A_NIA0360.json', 'container_dataset/train_labels/OBJ05440_PS3_K3A_NIA0165.json', 'container_dataset/train_labels/OBJ05205_PS3_K3A_NIA0340.json', 'container_dataset/train_labels/OBJ04493_PS3_K3A_NIA0296.json', 'container_dataset/train_labels/OBJ05124_PS3_K3A_NIA0334.json', 'container_dataset/train_labels/OBJ05706_PS3_K3A_NIA0363.json', 'container_dataset/train_labels/OBJ04144_PS3_K3A_NIA0178.json', 'container_dataset/train_labels/OBJ04557_PS3_K3A_NIA0300.json', 'container_dataset/train_labels/OBJ05045_PS3_K3A_NIA0329.json', 'container_dataset/train_labels/OBJ04706_PS3_K3A_NIA0313.json', 'container_dataset/train_labels/OBJ04238_PS3_K3_NIA0278.json', 'container_dataset/train_labels/OBJ04987_PS3_K3A_NIA0328.json', 'container_dataset/train_labels/OBJ05048_PS3_K3A_NIA0329.json', 'container_dataset/train_labels/OBJ05486_PS3_K3A_NIA0166.json', 'container_dataset/train_labels/OBJ05874_PS3_K3_NIA0610.json', 'container_dataset/train_labels/OBJ04868_PS3_K3A_NIA0318.json', 'container_dataset/train_labels/OBJ02037_PS3_K3_NIA0111.json', 'container_dataset/train_labels/OBJ05414_PS3_K3A_NIA0349.json', 'container_dataset/train_labels/OBJ04957_PS3_K3A_NIA0326.json', 'container_dataset/train_labels/OBJ04798_PS3_K3A_NIA0315.json', 'container_dataset/train_labels/OBJ05605_PS3_K3A_NIA0357.json', 'container_dataset/train_labels/OBJ05044_PS3_K3A_NIA0329.json', 'container_dataset/train_labels/OBJ03428_PS3_K3A_NIA0139.json', 'container_dataset/train_labels/OBJ05359_PS3_K3A_NIA0346.json', 'container_dataset/train_labels/OBJ03758_PS3_K3A_NIA0157.json', 'container_dataset/train_labels/OBJ07383_PS3_K3A_NIA0808.json', 'container_dataset/train_labels/OBJ02230_PS3_K3_NIA0117.json', 'container_dataset/train_labels/OBJ04361_PS3_K3A_NIA0285.json', 'container_dataset/train_labels/OBJ05267_PS3_K3A_NIA0342.json', 'container_dataset/train_labels/OBJ04867_PS3_K3A_NIA0318.json', 'container_dataset/train_labels/OBJ05489_PS3_K3A_NIA0166.json', 'container_dataset/train_labels/OBJ05548_PS3_K3A_NIA0354.json', 'container_dataset/train_labels/OBJ01665_PS3_K3_NIA0101.json', 'container_dataset/train_labels/OBJ05346_PS3_K3A_NIA0345.json', 'container_dataset/train_labels/OBJ05500_PS3_K3A_NIA0166.json', 'container_dataset/train_labels/OBJ07398_PS3_K3A_NIA0815.json', 'container_dataset/train_labels/OBJ04498_PS3_K3A_NIA0296.json', 'container_dataset/train_labels/OBJ03549_PS3_K3A_NIA0149.json', 'container_dataset/train_labels/OBJ04853_PS3_K3A_NIA0317.json', 'container_dataset/train_labels/OBJ04947_PS3_K3A_NIA0326.json', 'container_dataset/train_labels/OBJ04393_PS3_K3A_NIA0288.json', 'container_dataset/train_labels/OBJ05392_PS3_K3A_NIA0347.json', 'container_dataset/train_labels/OBJ07370_PS3_K3A_NIA0803.json', 'container_dataset/train_labels/OBJ05733_PS3_K3A_NIA0363.json', 'container_dataset/train_labels/OBJ05239_PS3_K3A_NIA0341.json', 'container_dataset/train_labels/OBJ05838_PS3_K3_NIA0599.json', 'container_dataset/train_labels/OBJ05516_PS3_K3A_NIA0352.json', 'container_dataset/train_labels/OBJ05296_PS3_K3A_NIA0343.json', 'container_dataset/train_labels/OBJ05071_PS3_K3A_NIA0330.json', 'container_dataset/train_labels/OBJ04838_PS3_K3A_NIA0317.json', 'container_dataset/train_labels/OBJ05627_PS3_K3A_NIA0358.json', 'container_dataset/train_labels/OBJ03726_PS3_K3A_NIA0156.json', 'container_dataset/train_labels/OBJ05510_PS3_K3A_NIA0166.json', 'container_dataset/train_labels/OBJ05015_PS3_K3A_NIA0329.json', 'container_dataset/train_labels/OBJ04066_PS3_K3A_NIA0171.json', 'container_dataset/train_labels/OBJ04407_PS3_K3A_NIA0289.json', 'container_dataset/train_labels/OBJ04419_PS3_K3A_NIA0289.json', 'container_dataset/train_labels/OBJ03484_PS3_K3A_NIA0143.json', 'container_dataset/train_labels/OBJ05309_PS3_K3A_NIA0344.json', 'container_dataset/train_labels/OBJ05463_PS3_K3A_NIA0166.json', 'container_dataset/train_labels/OBJ03864_PS3_K3A_NIA0162.json', 'container_dataset/train_labels/OBJ03692_PS3_K3A_NIA0154.json', 'container_dataset/train_labels/OBJ03963_PS3_K3A_NIA0166.json', 'container_dataset/train_labels/OBJ05484_PS3_K3A_NIA0166.json', 'container_dataset/train_labels/OBJ04595_PS3_K3A_NIA0302.json', 'container_dataset/train_labels/OBJ03492_PS3_K3A_NIA0144.json', 'container_dataset/train_labels/OBJ00722_PS3_K3_NIA0088.json', 'container_dataset/train_labels/OBJ03446_PS3_K3A_NIA0139.json', 'container_dataset/train_labels/OBJ05206_PS3_K3A_NIA0340.json', 'container_dataset/train_labels/OBJ03543_PS3_K3A_NIA0148.json', 'container_dataset/train_labels/OBJ05395_PS3_K3A_NIA0347.json', 'container_dataset/train_labels/OBJ05250_PS3_K3A_NIA0341.json', 'container_dataset/train_labels/OBJ04882_PS3_K3A_NIA0319.json', 'container_dataset/train_labels/OBJ04064_PS3_K3A_NIA0171.json', 'container_dataset/train_labels/OBJ04991_PS3_K3A_NIA0328.json', 'container_dataset/train_labels/OBJ04996_PS3_K3A_NIA0328.json', 'container_dataset/train_labels/OBJ05092_PS3_K3A_NIA0332.json', 'container_dataset/train_labels/OBJ03698_PS3_K3A_NIA0155.json', 'container_dataset/train_labels/OBJ05638_PS3_K3A_NIA0359.json', 'container_dataset/train_labels/OBJ03776_PS3_K3A_NIA0158.json', 'container_dataset/train_labels/OBJ04356_PS3_K3A_NIA0284.json', 'container_dataset/train_labels/OBJ05009_PS3_K3A_NIA0328.json', 'container_dataset/train_labels/OBJ04586_PS3_K3A_NIA0301.json', 'container_dataset/train_labels/OBJ04153_PS3_K3A_NIA0179.json', 'container_dataset/train_labels/OBJ04552_PS3_K3A_NIA0300.json', 'container_dataset/train_labels/OBJ05779_PS3_K3A_NIA0368.json', 'container_dataset/train_labels/OBJ05533_PS3_K3A_NIA0353.json', 'container_dataset/train_labels/OBJ04517_PS3_K3A_NIA0298.json', 'container_dataset/train_labels/OBJ05348_PS3_K3A_NIA0345.json', 'container_dataset/train_labels/OBJ04038_PS3_K3A_NIA0170.json', 'container_dataset/train_labels/OBJ04070_PS3_K3A_NIA0171.json', 'container_dataset/train_labels/OBJ05519_PS3_K3A_NIA0352.json', 'container_dataset/train_labels/OBJ04370_PS3_K3A_NIA0285.json', 'container_dataset/train_labels/OBJ04912_PS3_K3A_NIA0322.json', 'container_dataset/train_labels/OBJ03682_PS3_K3A_NIA0154.json', 'container_dataset/train_labels/OBJ03711_PS3_K3A_NIA0156.json', 'container_dataset/train_labels/OBJ04018_PS3_K3A_NIA0169.json', 'container_dataset/train_labels/OBJ04323_PS3_K3_NIA0280.json', 'container_dataset/train_labels/OBJ05501_PS3_K3A_NIA0166.json', 'container_dataset/train_labels/OBJ03463_PS3_K3A_NIA0140.json', 'container_dataset/train_labels/OBJ04860_PS3_K3A_NIA0317.json', 'container_dataset/train_labels/OBJ05018_PS3_K3A_NIA0329.json', 'container_dataset/train_labels/OBJ01921_PS3_K3_NIA0110.json', 'container_dataset/train_labels/OBJ04053_PS3_K3A_NIA0170.json', 'container_dataset/train_labels/OBJ04441_PS3_K3A_NIA0292.json', 'container_dataset/train_labels/OBJ04840_PS3_K3A_NIA0317.json', 'container_dataset/train_labels/OBJ05266_PS3_K3A_NIA0342.json', 'container_dataset/train_labels/OBJ04830_PS3_K3A_NIA0316.json', 'container_dataset/train_labels/OBJ04835_PS3_K3A_NIA0317.json', 'container_dataset/train_labels/OBJ03770_PS3_K3A_NIA0157.json', 'container_dataset/train_labels/OBJ04904_PS3_K3A_NIA0322.json', 'container_dataset/train_labels/OBJ03569_PS3_K3A_NIA0150.json', 'container_dataset/train_labels/OBJ04042_PS3_K3A_NIA0170.json', 'container_dataset/train_labels/OBJ05554_PS3_K3A_NIA0355.json', 'container_dataset/train_labels/OBJ05653_PS3_K3A_NIA0359.json', 'container_dataset/train_labels/OBJ03823_PS3_K3A_NIA0160.json', 'container_dataset/train_labels/OBJ05462_PS3_K3A_NIA0166.json', 'container_dataset/train_labels/OBJ04351_PS3_K3A_NIA0283.json', 'container_dataset/train_labels/OBJ04938_PS3_K3A_NIA0324.json', 'container_dataset/train_labels/OBJ04610_PS3_K3A_NIA0303.json', 'container_dataset/train_labels/OBJ05002_PS3_K3A_NIA0328.json', 'container_dataset/train_labels/OBJ04457_PS3_K3A_NIA0293.json', 'container_dataset/train_labels/OBJ05509_PS3_K3A_NIA0166.json', 'container_dataset/train_labels/OBJ06263_PS3_K3A_NIA0637.json', 'container_dataset/train_labels/OBJ04028_PS3_K3A_NIA0169.json', 'container_dataset/train_labels/OBJ03545_PS3_K3A_NIA0148.json', 'container_dataset/train_labels/OBJ05713_PS3_K3A_NIA0363.json', 'container_dataset/train_labels/OBJ05723_PS3_K3A_NIA0363.json', 'container_dataset/train_labels/OBJ05216_PS3_K3A_NIA0340.json', 'container_dataset/train_labels/OBJ05778_PS3_K3A_NIA0368.json', 'container_dataset/train_labels/OBJ05292_PS3_K3A_NIA0343.json', 'container_dataset/train_labels/OBJ05401_PS3_K3A_NIA0347.json', 'container_dataset/train_labels/OBJ03571_PS3_K3A_NIA0150.json', 'container_dataset/train_labels/OBJ04593_PS3_K3A_NIA0302.json', 'container_dataset/train_labels/OBJ03389_PS3_K3A_NIA0137.json', 'container_dataset/train_labels/OBJ04865_PS3_K3A_NIA0318.json', 'container_dataset/train_labels/OBJ04544_PS3_K3A_NIA0300.json', 'container_dataset/train_labels/OBJ04382_PS3_K3A_NIA0287.json', 'container_dataset/train_labels/OBJ03650_PS3_K3A_NIA0153.json', 'container_dataset/train_labels/OBJ04022_PS3_K3A_NIA0169.json', 'container_dataset/train_labels/OBJ04186_PS3_K3A_NIA0180.json', 'container_dataset/train_labels/OBJ05290_PS3_K3A_NIA0343.json', 'container_dataset/train_labels/OBJ04730_PS3_K3A_NIA0314.json', 'container_dataset/train_labels/OBJ03885_PS3_K3A_NIA0164.json', 'container_dataset/train_labels/OBJ05626_PS3_K3A_NIA0358.json', 'container_dataset/train_labels/OBJ04125_PS3_K3A_NIA0176.json', 'container_dataset/train_labels/OBJ04093_PS3_K3A_NIA0174.json', 'container_dataset/train_labels/OBJ04135_PS3_K3A_NIA0177.json', 'container_dataset/train_labels/OBJ03754_PS3_K3A_NIA0157.json', 'container_dataset/train_labels/OBJ03950_PS3_K3A_NIA0166.json', 'container_dataset/train_labels/OBJ02307_PS3_K3_NIA0118.json', 'container_dataset/train_labels/OBJ05759_PS3_K3A_NIA0365.json', 'container_dataset/train_labels/OBJ03635_PS3_K3A_NIA0152.json', 'container_dataset/train_labels/OBJ03388_PS3_K3A_NIA0137.json', 'container_dataset/train_labels/OBJ05085_PS3_K3A_NIA0332.json', 'container_dataset/train_labels/OBJ04969_PS3_K3A_NIA0327.json', 'container_dataset/train_labels/OBJ03836_PS3_K3A_NIA0161.json', 'container_dataset/train_labels/OBJ04422_PS3_K3A_NIA0290.json', 'container_dataset/train_labels/OBJ04026_PS3_K3A_NIA0169.json', 'container_dataset/train_labels/OBJ03451_PS3_K3A_NIA0140.json', 'container_dataset/train_labels/OBJ04636_PS3_K3A_NIA0304.json', 'container_dataset/train_labels/OBJ05702_PS3_K3A_NIA0362.json', 'container_dataset/train_labels/OBJ04740_PS3_K3A_NIA0314.json', 'container_dataset/train_labels/OBJ05506_PS3_K3A_NIA0166.json', 'container_dataset/train_labels/OBJ03762_PS3_K3A_NIA0157.json', 'container_dataset/train_labels/OBJ01822_PS3_K3_NIA0106.json', 'container_dataset/train_labels/OBJ05618_PS3_K3A_NIA0358.json', 'container_dataset/train_labels/OBJ03941_PS3_K3A_NIA0166.json', 'container_dataset/train_labels/OBJ04615_PS3_K3A_NIA0303.json', 'container_dataset/train_labels/OBJ03967_PS3_K3A_NIA0166.json', 'container_dataset/train_labels/OBJ05430_PS3_K3A_NIA0350.json', 'container_dataset/train_labels/OBJ04514_PS3_K3A_NIA0298.json', 'container_dataset/train_labels/OBJ07385_PS3_K3A_NIA0808.json', 'container_dataset/train_labels/OBJ05476_PS3_K3A_NIA0166.json', 'container_dataset/train_labels/OBJ04019_PS3_K3A_NIA0169.json', 'container_dataset/train_labels/OBJ04637_PS3_K3A_NIA0304.json', 'container_dataset/train_labels/OBJ05050_PS3_K3A_NIA0329.json', 'container_dataset/train_labels/OBJ01399_PS3_K3_NIA0093.json', 'container_dataset/train_labels/OBJ05057_PS3_K3A_NIA0330.json', 'container_dataset/train_labels/OBJ03485_PS3_K3A_NIA0144.json', 'container_dataset/train_labels/OBJ03752_PS3_K3A_NIA0157.json', 'container_dataset/train_labels/OBJ04386_PS3_K3A_NIA0287.json', 'container_dataset/train_labels/OBJ03947_PS3_K3A_NIA0166.json', 'container_dataset/train_labels/OBJ05384_PS3_K3A_NIA0346.json', 'container_dataset/train_labels/OBJ03970_PS3_K3A_NIA0166.json', 'container_dataset/train_labels/OBJ04052_PS3_K3A_NIA0170.json', 'container_dataset/train_labels/OBJ04376_PS3_K3A_NIA0286.json', 'container_dataset/train_labels/OBJ04639_PS3_K3A_NIA0305.json', 'container_dataset/train_labels/OBJ05325_PS3_K3A_NIA0344.json', 'container_dataset/train_labels/OBJ04585_PS3_K3A_NIA0301.json', 'container_dataset/train_labels/OBJ05111_PS3_K3A_NIA0333.json', 'container_dataset/train_labels/OBJ03828_PS3_K3A_NIA0161.json', 'container_dataset/train_labels/OBJ04454_PS3_K3A_NIA0292.json', 'container_dataset/train_labels/OBJ05344_PS3_K3A_NIA0345.json', 'container_dataset/train_labels/OBJ05166_PS3_K3A_NIA0338.json', 'container_dataset/train_labels/OBJ05362_PS3_K3A_NIA0346.json', 'container_dataset/train_labels/OBJ05137_PS3_K3A_NIA0334.json', 'container_dataset/train_labels/OBJ05391_PS3_K3A_NIA0347.json', 'container_dataset/train_labels/OBJ05461_PS3_K3A_NIA0166.json', 'container_dataset/train_labels/OBJ03932_PS3_K3A_NIA0166.json', 'container_dataset/train_labels/OBJ03784_PS3_K3A_NIA0158.json', 'container_dataset/train_labels/OBJ05074_PS3_K3A_NIA0331.json', 'container_dataset/train_labels/OBJ03411_PS3_K3A_NIA0138.json', 'container_dataset/train_labels/OBJ04701_PS3_K3A_NIA0312.json', 'container_dataset/train_labels/OBJ05763_PS3_K3A_NIA0366.json', 'container_dataset/train_labels/OBJ04661_PS3_K3A_NIA0309.json', 'container_dataset/train_labels/OBJ04825_PS3_K3A_NIA0316.json', 'container_dataset/train_labels/OBJ05732_PS3_K3A_NIA0363.json', 'container_dataset/train_labels/OBJ03714_PS3_K3A_NIA0156.json', 'container_dataset/train_labels/OBJ05001_PS3_K3A_NIA0328.json', 'container_dataset/train_labels/OBJ03550_PS3_K3A_NIA0149.json', 'container_dataset/train_labels/OBJ03720_PS3_K3A_NIA0156.json', 'container_dataset/train_labels/OBJ03767_PS3_K3A_NIA0157.json', 'container_dataset/train_labels/OBJ04827_PS3_K3A_NIA0316.json', 'container_dataset/train_labels/OBJ05150_PS3_K3A_NIA0336.json', 'container_dataset/train_labels/OBJ04863_PS3_K3A_NIA0318.json', 'container_dataset/train_labels/OBJ03672_PS3_K3A_NIA0153.json', 'container_dataset/train_labels/OBJ05624_PS3_K3A_NIA0358.json', 'container_dataset/train_labels/OBJ04396_PS3_K3A_NIA0289.json', 'container_dataset/train_labels/OBJ00028_PS3_K3_NIA0078.json', 'container_dataset/train_labels/OBJ05602_PS3_K3A_NIA0357.json', 'container_dataset/train_labels/OBJ04569_PS3_K3A_NIA0301.json', 'container_dataset/train_labels/OBJ04582_PS3_K3A_NIA0301.json', 'container_dataset/train_labels/OBJ05652_PS3_K3A_NIA0359.json', 'container_dataset/train_labels/OBJ04852_PS3_K3A_NIA0317.json', 'container_dataset/train_labels/OBJ03483_PS3_K3A_NIA0143.json', 'container_dataset/train_labels/OBJ05467_PS3_K3A_NIA0166.json', 'container_dataset/train_labels/OBJ04559_PS3_K3A_NIA0300.json', 'container_dataset/train_labels/OBJ04437_PS3_K3A_NIA0291.json', 'container_dataset/train_labels/OBJ04832_PS3_K3A_NIA0317.json', 'container_dataset/train_labels/OBJ04152_PS3_K3A_NIA0179.json', 'container_dataset/train_labels/OBJ05607_PS3_K3A_NIA0357.json', 'container_dataset/train_labels/OBJ04455_PS3_K3A_NIA0292.json', 'container_dataset/train_labels/OBJ05685_PS3_K3A_NIA0361.json', 'container_dataset/train_labels/OBJ04143_PS3_K3A_NIA0178.json', 'container_dataset/train_labels/OBJ04558_PS3_K3A_NIA0300.json', 'container_dataset/train_labels/OBJ04591_PS3_K3A_NIA0302.json', 'container_dataset/train_labels/OBJ04397_PS3_K3A_NIA0289.json', 'container_dataset/train_labels/OBJ04123_PS3_K3A_NIA0175.json', 'container_dataset/train_labels/OBJ04915_PS3_K3A_NIA0322.json', 'container_dataset/train_labels/OBJ00827_PS3_K3_NIA0088.json', 'container_dataset/train_labels/OBJ04901_PS3_K3A_NIA0322.json', 'container_dataset/train_labels/OBJ05171_PS3_K3A_NIA0338.json', 'container_dataset/train_labels/OBJ03626_PS3_K3A_NIA0151.json', 'container_dataset/train_labels/OBJ05789_PS3_K3A_NIA0370.json', 'container_dataset/train_labels/OBJ05011_PS3_K3A_NIA0328.json', 'container_dataset/train_labels/OBJ03840_PS3_K3A_NIA0161.json', 'container_dataset/train_labels/OBJ04360_PS3_K3A_NIA0285.json', 'container_dataset/train_labels/OBJ05323_PS3_K3A_NIA0344.json', 'container_dataset/train_labels/OBJ04088_PS3_K3A_NIA0173.json', 'container_dataset/train_labels/OBJ04431_PS3_K3A_NIA0290.json', 'container_dataset/train_labels/OBJ05069_PS3_K3A_NIA0330.json', 'container_dataset/train_labels/OBJ05752_PS3_K3A_NIA0365.json', 'container_dataset/train_labels/OBJ03945_PS3_K3A_NIA0166.json', 'container_dataset/train_labels/OBJ05725_PS3_K3A_NIA0363.json', 'container_dataset/train_labels/OBJ04979_PS3_K3A_NIA0327.json', 'container_dataset/train_labels/OBJ05070_PS3_K3A_NIA0330.json', 'container_dataset/train_labels/OBJ04059_PS3_K3A_NIA0171.json', 'container_dataset/train_labels/OBJ04597_PS3_K3A_NIA0302.json', 'container_dataset/train_labels/OBJ03541_PS3_K3A_NIA0148.json', 'container_dataset/train_labels/OBJ05142_PS3_K3A_NIA0335.json']\n"
     ]
    }
   ],
   "source": [
    "print(all_lbls)"
   ]
  },
  {
   "cell_type": "code",
   "execution_count": 6,
   "id": "cbc10b30-7ec0-469f-800b-17f2f3259ab9",
   "metadata": {},
   "outputs": [],
   "source": [
    "train_lbls = all_lbls[:int(len(all_lbls)*0.8)]\n",
    "\n",
    "valid_lbls = all_lbls[int(len(all_lbls)*0.8):]"
   ]
  },
  {
   "cell_type": "code",
   "execution_count": 7,
   "id": "1be9f936-216c-4e15-8ee7-9b816c30071c",
   "metadata": {},
   "outputs": [
    {
     "name": "stdout",
     "output_type": "stream",
     "text": [
      "217 55\n"
     ]
    }
   ],
   "source": [
    "print(len(train_lbls),len(valid_lbls))"
   ]
  },
  {
   "cell_type": "code",
   "execution_count": 8,
   "id": "7d29f15f-949a-4dab-a546-cabf399e9d48",
   "metadata": {},
   "outputs": [],
   "source": [
    "for lbl in train_lbls:\n",
    "    with open(lbl, 'r') as file:\n",
    "        data = json.load(file)\n",
    "    for data_row in data['features']:\n",
    "        INdata = list(map(str,map(int,(map(float, data_row['properties']['object_imcoords'].split(','))))))\n",
    "        INdata = ' '.join(INdata)\n",
    "        INdata +=' container 0'\n",
    "\n",
    "        with open(\"container_dataset/train_lbl/\" + lbl.replace('\\\\', '/').split('/')[-1].replace('.json', '.txt'), \"a\") as f:\n",
    "            f.write(INdata+'\\n')"
   ]
  },
  {
   "cell_type": "code",
   "execution_count": 9,
   "id": "ec646190-3a72-4547-9456-a9fe6aac959b",
   "metadata": {},
   "outputs": [],
   "source": [
    "for lbl in valid_lbls:\n",
    "    with open(lbl, 'r') as file:\n",
    "        data = json.load(file)\n",
    "    for data_row in data['features']:\n",
    "        INdata = list(map(str,map(int,(map(float, data_row['properties']['object_imcoords'].split(','))))))\n",
    "        INdata = ' '.join(INdata)\n",
    "        INdata +=' container 0'\n",
    "\n",
    "        with open(\"container_dataset/valid_lbl/\" + lbl.replace('\\\\', '/').split('/')[-1].replace('.json', '.txt'), \"a\") as f:\n",
    "            f.write(INdata+'\\n')"
   ]
  },
  {
   "cell_type": "code",
   "execution_count": 9,
   "id": "41d44f63-5e45-45e7-ae7b-b9a56d34575e",
   "metadata": {},
   "outputs": [],
   "source": [
    "### 홍진성 추가 \n",
    "### VALIDATION SET을 RANDOM CROP과 유사하게 SET하기 위해서 5배 확대이후에 1024,1024로 잘라서 VALIDSET 새로 만듬\n",
    "### 이미지의 가장자리에 위치해서 잘리는경우에는 버림\n",
    "valid_labels = glob('container_dataset/valid_lbl','*')\n",
    "\n",
    "\n",
    "for val_lbl in valid_labels:\n",
    "    rboxls = csv2list((val_lbl))\n",
    "    img = cv2.imread('container_dataset/train_images/' + val_lbl.replace('\\\\', '/').split('/')[-1][:-3] + 'png')\n",
    "    img = cv2.resize(img,(5120,5120))\n",
    "    for i in range(5):\n",
    "        for j in range(5):\n",
    "            WS = j * 1024\n",
    "            WE = (j + 1) * 1024\n",
    "            HS = i * 1024\n",
    "            HE = (i + 1) * 1024\n",
    "\n",
    "            patch = img[HS:HE, WS:WE, :]\n",
    "\n",
    "            for lbl in rboxls:\n",
    "                pos_8 = list(map(int, lbl[0].split()[:8]))\n",
    "                if WS <= pos_8[0]*5 < WE and HS <= pos_8[1]*5 < HE and WS <= pos_8[2]*5 < WE and HS <= pos_8[3]*5 < HE \\\n",
    "                        and WS <= pos_8[4]*5 < WE and HS <= pos_8[5]*5 < HE and WS <= pos_8[6]*5 < WE and HS <= pos_8[7] * 5 < HE:\n",
    "                    pos_8[0] = pos_8[0] * 5 - WS\n",
    "                    pos_8[1] = pos_8[1] * 5 - HS\n",
    "                    pos_8[2] = pos_8[2] * 5 - WS\n",
    "                    pos_8[3] = pos_8[3] * 5 - HS\n",
    "                    pos_8[4] = pos_8[4] * 5 - WS\n",
    "                    pos_8[5] = pos_8[5] * 5 - HS\n",
    "                    pos_8[6] = pos_8[6] * 5 - WS\n",
    "                    pos_8[7] = pos_8[7] * 5 - HS\n",
    "\n",
    "                    pos_8 = list(map(str, pos_8))\n",
    "                    INdata = ' '.join(pos_8)\n",
    "                    INdata += ' container 0'\n",
    "\n",
    "                    with open(\"container_dataset/train_VAL_patch_lbl/\" + val_lbl.replace('\\\\', '/').split('/')[-1][:-4] + str(j) + str(i)+'.txt',\"a\") as f:\n",
    "                        f.write(INdata + '\\n')\n",
    "\n",
    "            cv2.imwrite('container_dataset/train_VAL_patch_img/'+val_lbl.replace('\\\\', '/').split('/')[-1][:-4] + str(j) + str(i)+'.png', patch)"
   ]
  },
  {
   "cell_type": "code",
   "execution_count": null,
   "id": "bbd945ce-1f98-487a-84cc-8b8169f67375",
   "metadata": {},
   "outputs": [],
   "source": []
  }
 ],
 "metadata": {
  "kernelspec": {
   "display_name": "Python 3 (ipykernel)",
   "language": "python",
   "name": "python3"
  },
  "language_info": {
   "codemirror_mode": {
    "name": "ipython",
    "version": 3
   },
   "file_extension": ".py",
   "mimetype": "text/x-python",
   "name": "python",
   "nbconvert_exporter": "python",
   "pygments_lexer": "ipython3",
   "version": "3.8.17"
  }
 },
 "nbformat": 4,
 "nbformat_minor": 5
}
