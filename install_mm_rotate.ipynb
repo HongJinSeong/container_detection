{
 "cells": [
  {
   "cell_type": "code",
   "execution_count": 1,
   "id": "946e7e0d-ea28-4e4a-89cc-2f9b4930b8ac",
   "metadata": {
    "tags": []
   },
   "outputs": [
    {
     "name": "stdout",
     "output_type": "stream",
     "text": [
      "Python 3.8.17\n"
     ]
    }
   ],
   "source": [
    "!python --version"
   ]
  },
  {
   "cell_type": "code",
   "execution_count": 2,
   "id": "feddebcc-8ac4-4f32-b0ec-32477ec7efd5",
   "metadata": {},
   "outputs": [
    {
     "name": "stdout",
     "output_type": "stream",
     "text": [
      "Looking in links: https://download.pytorch.org/whl/torch_stable.html\n",
      "Collecting torch==1.8.0+cu111\n",
      "  Using cached https://download.pytorch.org/whl/cu111/torch-1.8.0%2Bcu111-cp38-cp38-linux_x86_64.whl (1982.2 MB)\n",
      "Collecting torchvision==0.9.0+cu111\n",
      "  Using cached https://download.pytorch.org/whl/cu111/torchvision-0.9.0%2Bcu111-cp38-cp38-linux_x86_64.whl (17.6 MB)\n",
      "Collecting torchaudio==0.8.0\n",
      "  Using cached torchaudio-0.8.0-cp38-cp38-manylinux1_x86_64.whl (1.9 MB)\n",
      "Requirement already satisfied: typing-extensions in /usr/local/lib/python3.8/site-packages (from torch==1.8.0+cu111) (4.7.1)\n",
      "Collecting numpy (from torch==1.8.0+cu111)\n",
      "  Using cached numpy-1.24.4-cp38-cp38-manylinux_2_17_x86_64.manylinux2014_x86_64.whl (17.3 MB)\n",
      "Collecting pillow>=4.1.1 (from torchvision==0.9.0+cu111)\n",
      "  Using cached Pillow-10.0.0-cp38-cp38-manylinux_2_28_x86_64.whl (3.4 MB)\n",
      "Installing collected packages: pillow, numpy, torch, torchvision, torchaudio\n",
      "Successfully installed numpy-1.24.4 pillow-10.0.0 torch-1.8.0+cu111 torchaudio-0.8.0 torchvision-0.9.0+cu111\n",
      "\u001b[33mWARNING: Running pip as the 'root' user can result in broken permissions and conflicting behaviour with the system package manager. It is recommended to use a virtual environment instead: https://pip.pypa.io/warnings/venv\u001b[0m\u001b[33m\n",
      "\u001b[0m"
     ]
    }
   ],
   "source": [
    "!pip install torch==1.8.0+cu111 torchvision==0.9.0+cu111 torchaudio==0.8.0 -f https://download.pytorch.org/whl/torch_stable.html"
   ]
  },
  {
   "cell_type": "code",
   "execution_count": 3,
   "id": "b26cb94f-6f53-4f61-9a72-eba64f70e6ad",
   "metadata": {
    "tags": []
   },
   "outputs": [
    {
     "name": "stdout",
     "output_type": "stream",
     "text": [
      "Collecting openmim\n",
      "  Using cached openmim-0.3.9-py2.py3-none-any.whl (52 kB)\n",
      "Collecting Click (from openmim)\n",
      "  Using cached click-8.1.4-py3-none-any.whl (98 kB)\n",
      "Collecting colorama (from openmim)\n",
      "  Using cached colorama-0.4.6-py2.py3-none-any.whl (25 kB)\n",
      "Collecting model-index (from openmim)\n",
      "  Using cached model_index-0.1.11-py3-none-any.whl (34 kB)\n",
      "Collecting opendatalab (from openmim)\n",
      "  Using cached opendatalab-0.0.9-py3-none-any.whl (29 kB)\n",
      "Collecting pandas (from openmim)\n",
      "  Using cached pandas-2.0.3-cp38-cp38-manylinux_2_17_x86_64.manylinux2014_x86_64.whl (12.4 MB)\n",
      "Requirement already satisfied: pip>=19.3 in /usr/local/lib/python3.8/site-packages (from openmim) (23.1.2)\n",
      "Requirement already satisfied: requests in /usr/local/lib/python3.8/site-packages (from openmim) (2.31.0)\n",
      "Collecting rich (from openmim)\n",
      "  Using cached rich-13.4.2-py3-none-any.whl (239 kB)\n",
      "Collecting tabulate (from openmim)\n",
      "  Using cached tabulate-0.9.0-py3-none-any.whl (35 kB)\n",
      "Requirement already satisfied: pyyaml in /usr/local/lib/python3.8/site-packages (from model-index->openmim) (6.0)\n",
      "Collecting markdown (from model-index->openmim)\n",
      "  Using cached Markdown-3.4.3-py3-none-any.whl (93 kB)\n",
      "Collecting ordered-set (from model-index->openmim)\n",
      "  Using cached ordered_set-4.1.0-py3-none-any.whl (7.6 kB)\n",
      "Collecting pycryptodome (from opendatalab->openmim)\n",
      "  Using cached pycryptodome-3.18.0-cp35-abi3-manylinux_2_17_x86_64.manylinux2014_x86_64.whl (2.1 MB)\n",
      "Collecting tqdm (from opendatalab->openmim)\n",
      "  Using cached tqdm-4.65.0-py3-none-any.whl (77 kB)\n",
      "Requirement already satisfied: charset-normalizer<4,>=2 in /usr/local/lib/python3.8/site-packages (from requests->openmim) (3.2.0)\n",
      "Requirement already satisfied: idna<4,>=2.5 in /usr/local/lib/python3.8/site-packages (from requests->openmim) (3.4)\n",
      "Requirement already satisfied: urllib3<3,>=1.21.1 in /usr/local/lib/python3.8/site-packages (from requests->openmim) (2.0.3)\n",
      "Requirement already satisfied: certifi>=2017.4.17 in /usr/local/lib/python3.8/site-packages (from requests->openmim) (2023.5.7)\n",
      "Requirement already satisfied: python-dateutil>=2.8.2 in /usr/local/lib/python3.8/site-packages (from pandas->openmim) (2.8.2)\n",
      "Requirement already satisfied: pytz>=2020.1 in /usr/local/lib/python3.8/site-packages (from pandas->openmim) (2023.3)\n",
      "Collecting tzdata>=2022.1 (from pandas->openmim)\n",
      "  Using cached tzdata-2023.3-py2.py3-none-any.whl (341 kB)\n",
      "Requirement already satisfied: numpy>=1.20.3 in /usr/local/lib/python3.8/site-packages (from pandas->openmim) (1.24.4)\n",
      "Collecting markdown-it-py>=2.2.0 (from rich->openmim)\n",
      "  Using cached markdown_it_py-3.0.0-py3-none-any.whl (87 kB)\n",
      "Requirement already satisfied: pygments<3.0.0,>=2.13.0 in /usr/local/lib/python3.8/site-packages (from rich->openmim) (2.15.1)\n",
      "Requirement already satisfied: typing-extensions<5.0,>=4.0.0 in /usr/local/lib/python3.8/site-packages (from rich->openmim) (4.7.1)\n",
      "Collecting mdurl~=0.1 (from markdown-it-py>=2.2.0->rich->openmim)\n",
      "  Using cached mdurl-0.1.2-py3-none-any.whl (10.0 kB)\n",
      "Requirement already satisfied: six>=1.5 in /usr/local/lib/python3.8/site-packages (from python-dateutil>=2.8.2->pandas->openmim) (1.16.0)\n",
      "Requirement already satisfied: importlib-metadata>=4.4 in /usr/local/lib/python3.8/site-packages (from markdown->model-index->openmim) (6.8.0)\n",
      "Requirement already satisfied: zipp>=0.5 in /usr/local/lib/python3.8/site-packages (from importlib-metadata>=4.4->markdown->model-index->openmim) (3.16.0)\n",
      "Installing collected packages: tzdata, tqdm, tabulate, pycryptodome, ordered-set, mdurl, colorama, Click, pandas, markdown-it-py, markdown, rich, model-index, opendatalab, openmim\n",
      "Successfully installed Click-8.1.4 colorama-0.4.6 markdown-3.4.3 markdown-it-py-3.0.0 mdurl-0.1.2 model-index-0.1.11 opendatalab-0.0.9 openmim-0.3.9 ordered-set-4.1.0 pandas-2.0.3 pycryptodome-3.18.0 rich-13.4.2 tabulate-0.9.0 tqdm-4.65.0 tzdata-2023.3\n",
      "\u001b[33mWARNING: Running pip as the 'root' user can result in broken permissions and conflicting behaviour with the system package manager. It is recommended to use a virtual environment instead: https://pip.pypa.io/warnings/venv\u001b[0m\u001b[33m\n",
      "\u001b[0m"
     ]
    }
   ],
   "source": [
    "!pip install -U openmim"
   ]
  },
  {
   "cell_type": "code",
   "execution_count": 4,
   "id": "30c13b1d-5149-4396-b0b2-3c3cef56559b",
   "metadata": {
    "tags": []
   },
   "outputs": [
    {
     "name": "stdout",
     "output_type": "stream",
     "text": [
      "Looking in links: https://download.openmmlab.com/mmcv/dist/cu111/torch1.8.0/index.html\n",
      "Collecting mmengine\n",
      "  Using cached mmengine-0.8.1-py3-none-any.whl (433 kB)\n",
      "Collecting addict (from mmengine)\n",
      "  Using cached addict-2.4.0-py3-none-any.whl (3.8 kB)\n",
      "Collecting matplotlib (from mmengine)\n",
      "  Using cached matplotlib-3.7.2-cp38-cp38-manylinux_2_12_x86_64.manylinux2010_x86_64.whl (9.2 MB)\n",
      "Requirement already satisfied: numpy in /usr/local/lib/python3.8/site-packages (from mmengine) (1.24.4)\n",
      "Requirement already satisfied: pyyaml in /usr/local/lib/python3.8/site-packages (from mmengine) (6.0)\n",
      "Requirement already satisfied: rich in /usr/local/lib/python3.8/site-packages (from mmengine) (13.4.2)\n",
      "Collecting termcolor (from mmengine)\n",
      "  Using cached termcolor-2.3.0-py3-none-any.whl (6.9 kB)\n",
      "Collecting yapf (from mmengine)\n",
      "  Using cached yapf-0.40.1-py3-none-any.whl (250 kB)\n",
      "Collecting opencv-python>=3 (from mmengine)\n",
      "  Using cached opencv_python-4.8.0.74-cp37-abi3-manylinux_2_17_x86_64.manylinux2014_x86_64.whl (61.7 MB)\n",
      "Collecting contourpy>=1.0.1 (from matplotlib->mmengine)\n",
      "  Using cached contourpy-1.1.0-cp38-cp38-manylinux_2_17_x86_64.manylinux2014_x86_64.whl (300 kB)\n",
      "Collecting cycler>=0.10 (from matplotlib->mmengine)\n",
      "  Using cached cycler-0.11.0-py3-none-any.whl (6.4 kB)\n",
      "Collecting fonttools>=4.22.0 (from matplotlib->mmengine)\n",
      "  Using cached fonttools-4.40.0-cp38-cp38-manylinux_2_17_x86_64.manylinux2014_x86_64.whl (4.4 MB)\n",
      "Collecting kiwisolver>=1.0.1 (from matplotlib->mmengine)\n",
      "  Using cached kiwisolver-1.4.4-cp38-cp38-manylinux_2_5_x86_64.manylinux1_x86_64.whl (1.2 MB)\n",
      "Requirement already satisfied: packaging>=20.0 in /usr/local/lib/python3.8/site-packages (from matplotlib->mmengine) (23.1)\n",
      "Requirement already satisfied: pillow>=6.2.0 in /usr/local/lib/python3.8/site-packages (from matplotlib->mmengine) (10.0.0)\n",
      "Collecting pyparsing<3.1,>=2.3.1 (from matplotlib->mmengine)\n",
      "  Using cached pyparsing-3.0.9-py3-none-any.whl (98 kB)\n",
      "Requirement already satisfied: python-dateutil>=2.7 in /usr/local/lib/python3.8/site-packages (from matplotlib->mmengine) (2.8.2)\n",
      "Requirement already satisfied: importlib-resources>=3.2.0 in /usr/local/lib/python3.8/site-packages (from matplotlib->mmengine) (6.0.0)\n",
      "Requirement already satisfied: markdown-it-py>=2.2.0 in /usr/local/lib/python3.8/site-packages (from rich->mmengine) (3.0.0)\n",
      "Requirement already satisfied: pygments<3.0.0,>=2.13.0 in /usr/local/lib/python3.8/site-packages (from rich->mmengine) (2.15.1)\n",
      "Requirement already satisfied: typing-extensions<5.0,>=4.0.0 in /usr/local/lib/python3.8/site-packages (from rich->mmengine) (4.7.1)\n",
      "Requirement already satisfied: importlib-metadata>=6.6.0 in /usr/local/lib/python3.8/site-packages (from yapf->mmengine) (6.8.0)\n",
      "Requirement already satisfied: platformdirs>=3.5.1 in /usr/local/lib/python3.8/site-packages (from yapf->mmengine) (3.8.1)\n",
      "Requirement already satisfied: tomli>=2.0.1 in /usr/local/lib/python3.8/site-packages (from yapf->mmengine) (2.0.1)\n",
      "Requirement already satisfied: zipp>=0.5 in /usr/local/lib/python3.8/site-packages (from importlib-metadata>=6.6.0->yapf->mmengine) (3.16.0)\n",
      "Requirement already satisfied: mdurl~=0.1 in /usr/local/lib/python3.8/site-packages (from markdown-it-py>=2.2.0->rich->mmengine) (0.1.2)\n",
      "Requirement already satisfied: six>=1.5 in /usr/local/lib/python3.8/site-packages (from python-dateutil>=2.7->matplotlib->mmengine) (1.16.0)\n",
      "Installing collected packages: addict, termcolor, pyparsing, opencv-python, kiwisolver, fonttools, cycler, contourpy, yapf, matplotlib, mmengine\n",
      "Successfully installed addict-2.4.0 contourpy-1.1.0 cycler-0.11.0 fonttools-4.40.0 kiwisolver-1.4.4 matplotlib-3.7.2 mmengine-0.8.1 opencv-python-4.8.0.74 pyparsing-3.0.9 termcolor-2.3.0 yapf-0.40.1\n",
      "\u001b[33mWARNING: Running pip as the 'root' user can result in broken permissions and conflicting behaviour with the system package manager. It is recommended to use a virtual environment instead: https://pip.pypa.io/warnings/venv\u001b[0m\u001b[33m\n",
      "\u001b[0mLooking in links: https://download.openmmlab.com/mmcv/dist/cu111/torch1.8.0/index.html\n",
      "Collecting mmcv>=2.0.0rc2\n",
      "  Downloading https://download.openmmlab.com/mmcv/dist/cu111/torch1.8.0/mmcv-2.0.1-cp38-cp38-manylinux1_x86_64.whl (76.8 MB)\n",
      "\u001b[2K     \u001b[90m━━━━━━━━━━━━━━━━━━━━━━━━━━━━━━━━━━━━━━━━\u001b[0m \u001b[32m76.8/76.8 MB\u001b[0m \u001b[31m1.1 MB/s\u001b[0m eta \u001b[36m0:00:00\u001b[0m00:01\u001b[0m00:02\u001b[0m\n",
      "\u001b[?25hRequirement already satisfied: addict in /usr/local/lib/python3.8/site-packages (from mmcv>=2.0.0rc2) (2.4.0)\n",
      "Requirement already satisfied: mmengine>=0.3.0 in /usr/local/lib/python3.8/site-packages (from mmcv>=2.0.0rc2) (0.8.1)\n",
      "Requirement already satisfied: numpy in /usr/local/lib/python3.8/site-packages (from mmcv>=2.0.0rc2) (1.24.4)\n",
      "Requirement already satisfied: packaging in /usr/local/lib/python3.8/site-packages (from mmcv>=2.0.0rc2) (23.1)\n",
      "Requirement already satisfied: Pillow in /usr/local/lib/python3.8/site-packages (from mmcv>=2.0.0rc2) (10.0.0)\n",
      "Requirement already satisfied: pyyaml in /usr/local/lib/python3.8/site-packages (from mmcv>=2.0.0rc2) (6.0)\n",
      "Requirement already satisfied: yapf in /usr/local/lib/python3.8/site-packages (from mmcv>=2.0.0rc2) (0.40.1)\n",
      "Requirement already satisfied: opencv-python>=3 in /usr/local/lib/python3.8/site-packages (from mmcv>=2.0.0rc2) (4.8.0.74)\n",
      "Requirement already satisfied: matplotlib in /usr/local/lib/python3.8/site-packages (from mmengine>=0.3.0->mmcv>=2.0.0rc2) (3.7.2)\n",
      "Requirement already satisfied: rich in /usr/local/lib/python3.8/site-packages (from mmengine>=0.3.0->mmcv>=2.0.0rc2) (13.4.2)\n",
      "Requirement already satisfied: termcolor in /usr/local/lib/python3.8/site-packages (from mmengine>=0.3.0->mmcv>=2.0.0rc2) (2.3.0)\n",
      "Requirement already satisfied: importlib-metadata>=6.6.0 in /usr/local/lib/python3.8/site-packages (from yapf->mmcv>=2.0.0rc2) (6.8.0)\n",
      "Requirement already satisfied: platformdirs>=3.5.1 in /usr/local/lib/python3.8/site-packages (from yapf->mmcv>=2.0.0rc2) (3.8.1)\n",
      "Requirement already satisfied: tomli>=2.0.1 in /usr/local/lib/python3.8/site-packages (from yapf->mmcv>=2.0.0rc2) (2.0.1)\n",
      "Requirement already satisfied: zipp>=0.5 in /usr/local/lib/python3.8/site-packages (from importlib-metadata>=6.6.0->yapf->mmcv>=2.0.0rc2) (3.16.0)\n",
      "Requirement already satisfied: contourpy>=1.0.1 in /usr/local/lib/python3.8/site-packages (from matplotlib->mmengine>=0.3.0->mmcv>=2.0.0rc2) (1.1.0)\n",
      "Requirement already satisfied: cycler>=0.10 in /usr/local/lib/python3.8/site-packages (from matplotlib->mmengine>=0.3.0->mmcv>=2.0.0rc2) (0.11.0)\n",
      "Requirement already satisfied: fonttools>=4.22.0 in /usr/local/lib/python3.8/site-packages (from matplotlib->mmengine>=0.3.0->mmcv>=2.0.0rc2) (4.40.0)\n",
      "Requirement already satisfied: kiwisolver>=1.0.1 in /usr/local/lib/python3.8/site-packages (from matplotlib->mmengine>=0.3.0->mmcv>=2.0.0rc2) (1.4.4)\n",
      "Requirement already satisfied: pyparsing<3.1,>=2.3.1 in /usr/local/lib/python3.8/site-packages (from matplotlib->mmengine>=0.3.0->mmcv>=2.0.0rc2) (3.0.9)\n",
      "Requirement already satisfied: python-dateutil>=2.7 in /usr/local/lib/python3.8/site-packages (from matplotlib->mmengine>=0.3.0->mmcv>=2.0.0rc2) (2.8.2)\n",
      "Requirement already satisfied: importlib-resources>=3.2.0 in /usr/local/lib/python3.8/site-packages (from matplotlib->mmengine>=0.3.0->mmcv>=2.0.0rc2) (6.0.0)\n",
      "Requirement already satisfied: markdown-it-py>=2.2.0 in /usr/local/lib/python3.8/site-packages (from rich->mmengine>=0.3.0->mmcv>=2.0.0rc2) (3.0.0)\n",
      "Requirement already satisfied: pygments<3.0.0,>=2.13.0 in /usr/local/lib/python3.8/site-packages (from rich->mmengine>=0.3.0->mmcv>=2.0.0rc2) (2.15.1)\n",
      "Requirement already satisfied: typing-extensions<5.0,>=4.0.0 in /usr/local/lib/python3.8/site-packages (from rich->mmengine>=0.3.0->mmcv>=2.0.0rc2) (4.7.1)\n",
      "Requirement already satisfied: mdurl~=0.1 in /usr/local/lib/python3.8/site-packages (from markdown-it-py>=2.2.0->rich->mmengine>=0.3.0->mmcv>=2.0.0rc2) (0.1.2)\n",
      "Requirement already satisfied: six>=1.5 in /usr/local/lib/python3.8/site-packages (from python-dateutil>=2.7->matplotlib->mmengine>=0.3.0->mmcv>=2.0.0rc2) (1.16.0)\n",
      "Installing collected packages: mmcv\n",
      "Successfully installed mmcv-2.0.1\n",
      "\u001b[33mWARNING: Running pip as the 'root' user can result in broken permissions and conflicting behaviour with the system package manager. It is recommended to use a virtual environment instead: https://pip.pypa.io/warnings/venv\u001b[0m\u001b[33m\n",
      "\u001b[0m"
     ]
    }
   ],
   "source": [
    "!mim install mmengine\n",
    "!mim install \"mmcv>=2.0.0rc2\""
   ]
  },
  {
   "cell_type": "code",
   "execution_count": 5,
   "id": "aa6d31a1-2599-4e0a-9d6c-d53a2fba1f4b",
   "metadata": {
    "tags": []
   },
   "outputs": [
    {
     "name": "stdout",
     "output_type": "stream",
     "text": [
      "Looking in links: https://download.openmmlab.com/mmcv/dist/cu111/torch1.8.0/index.html\n",
      "Collecting mmdet>=3.0.0rc2\n",
      "  Using cached mmdet-3.1.0-py3-none-any.whl (2.0 MB)\n",
      "Requirement already satisfied: matplotlib in /usr/local/lib/python3.8/site-packages (from mmdet>=3.0.0rc2) (3.7.2)\n",
      "Requirement already satisfied: numpy in /usr/local/lib/python3.8/site-packages (from mmdet>=3.0.0rc2) (1.24.4)\n",
      "Collecting pycocotools (from mmdet>=3.0.0rc2)\n",
      "  Using cached pycocotools-2.0.6-cp38-cp38-linux_x86_64.whl\n",
      "Collecting scipy (from mmdet>=3.0.0rc2)\n",
      "  Using cached scipy-1.10.1-cp38-cp38-manylinux_2_17_x86_64.manylinux2014_x86_64.whl (34.5 MB)\n",
      "Collecting shapely (from mmdet>=3.0.0rc2)\n",
      "  Using cached shapely-2.0.1-cp38-cp38-manylinux_2_17_x86_64.manylinux2014_x86_64.whl (2.3 MB)\n",
      "Requirement already satisfied: six in /usr/local/lib/python3.8/site-packages (from mmdet>=3.0.0rc2) (1.16.0)\n",
      "Collecting terminaltables (from mmdet>=3.0.0rc2)\n",
      "  Using cached terminaltables-3.1.10-py2.py3-none-any.whl (15 kB)\n",
      "Requirement already satisfied: mmcv<2.1.0,>=2.0.0rc4 in /usr/local/lib/python3.8/site-packages (from mmdet>=3.0.0rc2) (2.0.1)\n",
      "Requirement already satisfied: mmengine<1.0.0,>=0.7.1 in /usr/local/lib/python3.8/site-packages (from mmdet>=3.0.0rc2) (0.8.1)\n",
      "Requirement already satisfied: addict in /usr/local/lib/python3.8/site-packages (from mmcv<2.1.0,>=2.0.0rc4->mmdet>=3.0.0rc2) (2.4.0)\n",
      "Requirement already satisfied: packaging in /usr/local/lib/python3.8/site-packages (from mmcv<2.1.0,>=2.0.0rc4->mmdet>=3.0.0rc2) (23.1)\n",
      "Requirement already satisfied: Pillow in /usr/local/lib/python3.8/site-packages (from mmcv<2.1.0,>=2.0.0rc4->mmdet>=3.0.0rc2) (10.0.0)\n",
      "Requirement already satisfied: pyyaml in /usr/local/lib/python3.8/site-packages (from mmcv<2.1.0,>=2.0.0rc4->mmdet>=3.0.0rc2) (6.0)\n",
      "Requirement already satisfied: yapf in /usr/local/lib/python3.8/site-packages (from mmcv<2.1.0,>=2.0.0rc4->mmdet>=3.0.0rc2) (0.40.1)\n",
      "Requirement already satisfied: opencv-python>=3 in /usr/local/lib/python3.8/site-packages (from mmcv<2.1.0,>=2.0.0rc4->mmdet>=3.0.0rc2) (4.8.0.74)\n",
      "Requirement already satisfied: rich in /usr/local/lib/python3.8/site-packages (from mmengine<1.0.0,>=0.7.1->mmdet>=3.0.0rc2) (13.4.2)\n",
      "Requirement already satisfied: termcolor in /usr/local/lib/python3.8/site-packages (from mmengine<1.0.0,>=0.7.1->mmdet>=3.0.0rc2) (2.3.0)\n",
      "Requirement already satisfied: contourpy>=1.0.1 in /usr/local/lib/python3.8/site-packages (from matplotlib->mmdet>=3.0.0rc2) (1.1.0)\n",
      "Requirement already satisfied: cycler>=0.10 in /usr/local/lib/python3.8/site-packages (from matplotlib->mmdet>=3.0.0rc2) (0.11.0)\n",
      "Requirement already satisfied: fonttools>=4.22.0 in /usr/local/lib/python3.8/site-packages (from matplotlib->mmdet>=3.0.0rc2) (4.40.0)\n",
      "Requirement already satisfied: kiwisolver>=1.0.1 in /usr/local/lib/python3.8/site-packages (from matplotlib->mmdet>=3.0.0rc2) (1.4.4)\n",
      "Requirement already satisfied: pyparsing<3.1,>=2.3.1 in /usr/local/lib/python3.8/site-packages (from matplotlib->mmdet>=3.0.0rc2) (3.0.9)\n",
      "Requirement already satisfied: python-dateutil>=2.7 in /usr/local/lib/python3.8/site-packages (from matplotlib->mmdet>=3.0.0rc2) (2.8.2)\n",
      "Requirement already satisfied: importlib-resources>=3.2.0 in /usr/local/lib/python3.8/site-packages (from matplotlib->mmdet>=3.0.0rc2) (6.0.0)\n",
      "Requirement already satisfied: zipp>=3.1.0 in /usr/local/lib/python3.8/site-packages (from importlib-resources>=3.2.0->matplotlib->mmdet>=3.0.0rc2) (3.16.0)\n",
      "Requirement already satisfied: markdown-it-py>=2.2.0 in /usr/local/lib/python3.8/site-packages (from rich->mmengine<1.0.0,>=0.7.1->mmdet>=3.0.0rc2) (3.0.0)\n",
      "Requirement already satisfied: pygments<3.0.0,>=2.13.0 in /usr/local/lib/python3.8/site-packages (from rich->mmengine<1.0.0,>=0.7.1->mmdet>=3.0.0rc2) (2.15.1)\n",
      "Requirement already satisfied: typing-extensions<5.0,>=4.0.0 in /usr/local/lib/python3.8/site-packages (from rich->mmengine<1.0.0,>=0.7.1->mmdet>=3.0.0rc2) (4.7.1)\n",
      "Requirement already satisfied: importlib-metadata>=6.6.0 in /usr/local/lib/python3.8/site-packages (from yapf->mmcv<2.1.0,>=2.0.0rc4->mmdet>=3.0.0rc2) (6.8.0)\n",
      "Requirement already satisfied: platformdirs>=3.5.1 in /usr/local/lib/python3.8/site-packages (from yapf->mmcv<2.1.0,>=2.0.0rc4->mmdet>=3.0.0rc2) (3.8.1)\n",
      "Requirement already satisfied: tomli>=2.0.1 in /usr/local/lib/python3.8/site-packages (from yapf->mmcv<2.1.0,>=2.0.0rc4->mmdet>=3.0.0rc2) (2.0.1)\n",
      "Requirement already satisfied: mdurl~=0.1 in /usr/local/lib/python3.8/site-packages (from markdown-it-py>=2.2.0->rich->mmengine<1.0.0,>=0.7.1->mmdet>=3.0.0rc2) (0.1.2)\n",
      "Installing collected packages: terminaltables, shapely, scipy, pycocotools, mmdet\n",
      "Successfully installed mmdet-3.1.0 pycocotools-2.0.6 scipy-1.10.1 shapely-2.0.1 terminaltables-3.1.10\n",
      "\u001b[33mWARNING: Running pip as the 'root' user can result in broken permissions and conflicting behaviour with the system package manager. It is recommended to use a virtual environment instead: https://pip.pypa.io/warnings/venv\u001b[0m\u001b[33m\n",
      "\u001b[0m"
     ]
    }
   ],
   "source": [
    "!mim install 'mmdet>=3.0.0rc2'"
   ]
  },
  {
   "cell_type": "code",
   "execution_count": 6,
   "id": "cd57a1ed-1a2d-4b6d-ad3e-b7c9286b1bf8",
   "metadata": {
    "tags": []
   },
   "outputs": [
    {
     "name": "stdout",
     "output_type": "stream",
     "text": [
      "Reading package lists... Done\n",
      "Building dependency tree... Done\n",
      "Reading state information... Done\n",
      "git is already the newest version (1:2.39.2-1.1).\n",
      "0 upgraded, 0 newly installed, 0 to remove and 1 not upgraded.\n"
     ]
    }
   ],
   "source": [
    "# !apt-get -y install git"
   ]
  },
  {
   "cell_type": "code",
   "execution_count": 7,
   "id": "e7d0dfd4-666a-4374-be29-2c43f209fe73",
   "metadata": {
    "tags": []
   },
   "outputs": [
    {
     "name": "stdout",
     "output_type": "stream",
     "text": [
      "Cloning into 'mmrotate'...\n",
      "remote: Enumerating objects: 3830, done.\u001b[K\n",
      "remote: Counting objects: 100% (1236/1236), done.\u001b[K\n",
      "remote: Compressing objects: 100% (376/376), done.\u001b[K\n",
      "remote: Total 3830 (delta 953), reused 884 (delta 860), pack-reused 2594\u001b[K\n",
      "Receiving objects: 100% (3830/3830), 22.31 MiB | 1.09 MiB/s, done.\n",
      "Resolving deltas: 100% (2350/2350), done.\n"
     ]
    }
   ],
   "source": [
    "# !git clone https://github.com/open-mmlab/mmrotate.git -b 1.x"
   ]
  },
  {
   "cell_type": "code",
   "execution_count": 8,
   "id": "641ad2c5-990d-44f8-9e0f-93813a17a930",
   "metadata": {
    "tags": []
   },
   "outputs": [
    {
     "name": "stdout",
     "output_type": "stream",
     "text": [
      "/root/mmrotate\n"
     ]
    }
   ],
   "source": [
    "cd mmrotate"
   ]
  },
  {
   "cell_type": "code",
   "execution_count": 15,
   "id": "63502f15-0342-422c-b01b-0f62e8a3787b",
   "metadata": {
    "tags": []
   },
   "outputs": [
    {
     "name": "stdout",
     "output_type": "stream",
     "text": [
      "CITATION.cff  README_zh-CN.md  docs\t\t  projects\t    setup.cfg\n",
      "LICENSE       configs\t       mmrotate\t\t  requirements\t    setup.py\n",
      "MANIFEST.in   demo\t       mmrotate.egg-info  requirements.txt  tests\n",
      "README.md     docker\t       model-index.yml\t  resources\t    tools\n"
     ]
    }
   ],
   "source": [
    "!ls"
   ]
  },
  {
   "cell_type": "code",
   "execution_count": 14,
   "id": "dbaa9f86-118b-469c-a806-bbca87e02bb1",
   "metadata": {
    "tags": []
   },
   "outputs": [
    {
     "name": "stdout",
     "output_type": "stream",
     "text": [
      "Using pip 23.1.2 from /usr/local/lib/python3.8/site-packages/pip (python 3.8)\n",
      "Obtaining file:///root/mmrotate\n",
      "  Running command python setup.py egg_info\n",
      "  running egg_info\n",
      "  creating /tmp/pip-pip-egg-info-5jzrrh7v/mmrotate.egg-info\n",
      "  writing /tmp/pip-pip-egg-info-5jzrrh7v/mmrotate.egg-info/PKG-INFO\n",
      "  writing dependency_links to /tmp/pip-pip-egg-info-5jzrrh7v/mmrotate.egg-info/dependency_links.txt\n",
      "  writing requirements to /tmp/pip-pip-egg-info-5jzrrh7v/mmrotate.egg-info/requires.txt\n",
      "  writing top-level names to /tmp/pip-pip-egg-info-5jzrrh7v/mmrotate.egg-info/top_level.txt\n",
      "  writing manifest file '/tmp/pip-pip-egg-info-5jzrrh7v/mmrotate.egg-info/SOURCES.txt'\n",
      "  reading manifest file '/tmp/pip-pip-egg-info-5jzrrh7v/mmrotate.egg-info/SOURCES.txt'\n",
      "  reading manifest template 'MANIFEST.in'\n",
      "  adding license file 'LICENSE'\n",
      "  writing manifest file '/tmp/pip-pip-egg-info-5jzrrh7v/mmrotate.egg-info/SOURCES.txt'\n",
      "  Preparing metadata (setup.py) ... \u001b[?25l\u001b[?25hdone\n",
      "Requirement already satisfied: matplotlib in /usr/local/lib/python3.8/site-packages (from mmrotate==1.0.0rc1) (3.7.2)\n",
      "Requirement already satisfied: numpy in /usr/local/lib/python3.8/site-packages (from mmrotate==1.0.0rc1) (1.24.4)\n",
      "Requirement already satisfied: pycocotools in /usr/local/lib/python3.8/site-packages (from mmrotate==1.0.0rc1) (2.0.6)\n",
      "Requirement already satisfied: six in /usr/local/lib/python3.8/site-packages (from mmrotate==1.0.0rc1) (1.16.0)\n",
      "Requirement already satisfied: terminaltables in /usr/local/lib/python3.8/site-packages (from mmrotate==1.0.0rc1) (3.1.10)\n",
      "Requirement already satisfied: torch in /usr/local/lib/python3.8/site-packages (from mmrotate==1.0.0rc1) (1.8.0+cu111)\n",
      "Requirement already satisfied: contourpy>=1.0.1 in /usr/local/lib/python3.8/site-packages (from matplotlib->mmrotate==1.0.0rc1) (1.1.0)\n",
      "Requirement already satisfied: cycler>=0.10 in /usr/local/lib/python3.8/site-packages (from matplotlib->mmrotate==1.0.0rc1) (0.11.0)\n",
      "Requirement already satisfied: fonttools>=4.22.0 in /usr/local/lib/python3.8/site-packages (from matplotlib->mmrotate==1.0.0rc1) (4.40.0)\n",
      "Requirement already satisfied: kiwisolver>=1.0.1 in /usr/local/lib/python3.8/site-packages (from matplotlib->mmrotate==1.0.0rc1) (1.4.4)\n",
      "Requirement already satisfied: packaging>=20.0 in /usr/local/lib/python3.8/site-packages (from matplotlib->mmrotate==1.0.0rc1) (23.1)\n",
      "Requirement already satisfied: pillow>=6.2.0 in /usr/local/lib/python3.8/site-packages (from matplotlib->mmrotate==1.0.0rc1) (10.0.0)\n",
      "Requirement already satisfied: pyparsing<3.1,>=2.3.1 in /usr/local/lib/python3.8/site-packages (from matplotlib->mmrotate==1.0.0rc1) (3.0.9)\n",
      "Requirement already satisfied: python-dateutil>=2.7 in /usr/local/lib/python3.8/site-packages (from matplotlib->mmrotate==1.0.0rc1) (2.8.2)\n",
      "Requirement already satisfied: importlib-resources>=3.2.0 in /usr/local/lib/python3.8/site-packages (from matplotlib->mmrotate==1.0.0rc1) (6.0.0)\n",
      "Requirement already satisfied: typing-extensions in /usr/local/lib/python3.8/site-packages (from torch->mmrotate==1.0.0rc1) (4.7.1)\n",
      "Requirement already satisfied: zipp>=3.1.0 in /usr/local/lib/python3.8/site-packages (from importlib-resources>=3.2.0->matplotlib->mmrotate==1.0.0rc1) (3.16.0)\n",
      "Installing collected packages: mmrotate\n",
      "  Attempting uninstall: mmrotate\n",
      "    Found existing installation: mmrotate 1.0.0rc1\n",
      "    Uninstalling mmrotate-1.0.0rc1:\n",
      "      Removing file or directory /usr/local/lib/python3.8/site-packages/mmrotate.egg-link\n",
      "      Removing pth entries from /usr/local/lib/python3.8/site-packages/easy-install.pth:\n",
      "      Removing entry: /root/mmrotate\n",
      "      Successfully uninstalled mmrotate-1.0.0rc1\n",
      "  Running setup.py develop for mmrotate\n",
      "    Running command python setup.py develop\n",
      "    running develop\n",
      "    running egg_info\n",
      "    writing mmrotate.egg-info/PKG-INFO\n",
      "    writing dependency_links to mmrotate.egg-info/dependency_links.txt\n",
      "    writing requirements to mmrotate.egg-info/requires.txt\n",
      "    writing top-level names to mmrotate.egg-info/top_level.txt\n",
      "    reading manifest file 'mmrotate.egg-info/SOURCES.txt'\n",
      "    reading manifest template 'MANIFEST.in'\n",
      "    adding license file 'LICENSE'\n",
      "    writing manifest file 'mmrotate.egg-info/SOURCES.txt'\n",
      "    running build_ext\n",
      "    Creating /usr/local/lib/python3.8/site-packages/mmrotate.egg-link (link to .)\n",
      "    Adding mmrotate 1.0.0rc1 to easy-install.pth file\n",
      "\n",
      "    Installed /root/mmrotate\n",
      "Successfully installed mmrotate-1.0.0rc1\n",
      "\u001b[33mWARNING: Running pip as the 'root' user can result in broken permissions and conflicting behaviour with the system package manager. It is recommended to use a virtual environment instead: https://pip.pypa.io/warnings/venv\u001b[0m\u001b[33m\n",
      "\u001b[0m"
     ]
    }
   ],
   "source": [
    "!pip install -v -e ."
   ]
  },
  {
   "cell_type": "code",
   "execution_count": 11,
   "id": "526dcfeb-d1af-4175-a448-9c32cbe9f1d0",
   "metadata": {
    "tags": []
   },
   "outputs": [
    {
     "name": "stdout",
     "output_type": "stream",
     "text": [
      "Reading package lists... Done\n",
      "Building dependency tree... Done\n",
      "Reading state information... Done\n",
      "The following additional packages will be installed:\n",
      "  libdrm-amdgpu1 libdrm-common libdrm-intel1 libdrm-nouveau2 libdrm-radeon1\n",
      "  libdrm2 libgl1 libgl1-mesa-dri libglapi-mesa libglvnd0 libglx-mesa0 libglx0\n",
      "  libllvm15 libpciaccess0 libsensors-config libsensors5 libx11-xcb1\n",
      "  libxcb-dri2-0 libxcb-dri3-0 libxcb-glx0 libxcb-present0 libxcb-randr0\n",
      "  libxcb-sync1 libxcb-xfixes0 libxfixes3 libxshmfence1 libxxf86vm1 libz3-4\n",
      "Suggested packages:\n",
      "  pciutils lm-sensors\n",
      "The following NEW packages will be installed:\n",
      "  libdrm-amdgpu1 libdrm-common libdrm-intel1 libdrm-nouveau2 libdrm-radeon1\n",
      "  libdrm2 libgl1 libgl1-mesa-dri libgl1-mesa-glx libglapi-mesa libglvnd0\n",
      "  libglx-mesa0 libglx0 libllvm15 libpciaccess0 libsensors-config libsensors5\n",
      "  libx11-xcb1 libxcb-dri2-0 libxcb-dri3-0 libxcb-glx0 libxcb-present0\n",
      "  libxcb-randr0 libxcb-sync1 libxcb-xfixes0 libxfixes3 libxshmfence1\n",
      "  libxxf86vm1 libz3-4\n",
      "0 upgraded, 29 newly installed, 0 to remove and 1 not upgraded.\n",
      "Need to get 39.2 MB of archives.\n",
      "After this operation, 171 MB of additional disk space will be used.\n",
      "Get:1 http://deb.debian.org/debian bookworm/main amd64 libdrm-common all 2.4.114-1 [7112 B]\n",
      "Get:2 http://deb.debian.org/debian bookworm/main amd64 libdrm2 amd64 2.4.114-1+b1 [37.5 kB]\n",
      "Get:3 http://deb.debian.org/debian bookworm/main amd64 libdrm-amdgpu1 amd64 2.4.114-1+b1 [20.9 kB]\n",
      "Get:4 http://deb.debian.org/debian bookworm/main amd64 libpciaccess0 amd64 0.17-2 [51.4 kB]\n",
      "Get:5 http://deb.debian.org/debian bookworm/main amd64 libdrm-intel1 amd64 2.4.114-1+b1 [64.0 kB]\n",
      "Get:6 http://deb.debian.org/debian bookworm/main amd64 libdrm-nouveau2 amd64 2.4.114-1+b1 [19.1 kB]\n",
      "Get:7 http://deb.debian.org/debian bookworm/main amd64 libdrm-radeon1 amd64 2.4.114-1+b1 [21.8 kB]\n",
      "Get:8 http://deb.debian.org/debian bookworm/main amd64 libglvnd0 amd64 1.6.0-1 [51.8 kB]\n",
      "Get:9 http://deb.debian.org/debian bookworm/main amd64 libglapi-mesa amd64 22.3.6-1+deb12u1 [35.7 kB]\n",
      "Get:10 http://deb.debian.org/debian-security bookworm-security/main amd64 libx11-xcb1 amd64 2:1.8.4-2+deb12u1 [192 kB]\n",
      "Get:11 http://deb.debian.org/debian bookworm/main amd64 libxcb-dri2-0 amd64 1.15-1 [107 kB]\n",
      "Get:12 http://deb.debian.org/debian bookworm/main amd64 libxcb-dri3-0 amd64 1.15-1 [107 kB]\n",
      "Get:13 http://deb.debian.org/debian bookworm/main amd64 libxcb-glx0 amd64 1.15-1 [122 kB]\n",
      "Get:14 http://deb.debian.org/debian bookworm/main amd64 libxcb-present0 amd64 1.15-1 [105 kB]\n",
      "Get:15 http://deb.debian.org/debian bookworm/main amd64 libxcb-randr0 amd64 1.15-1 [117 kB]\n",
      "Get:16 http://deb.debian.org/debian bookworm/main amd64 libxcb-sync1 amd64 1.15-1 [109 kB]\n",
      "Get:17 http://deb.debian.org/debian bookworm/main amd64 libxcb-xfixes0 amd64 1.15-1 [109 kB]\n",
      "Get:18 http://deb.debian.org/debian bookworm/main amd64 libxfixes3 amd64 1:6.0.0-2 [22.7 kB]\n",
      "Get:19 http://deb.debian.org/debian bookworm/main amd64 libxshmfence1 amd64 1.3-1 [8820 B]\n",
      "Get:20 http://deb.debian.org/debian bookworm/main amd64 libxxf86vm1 amd64 1:1.1.4-1+b2 [20.8 kB]\n",
      "Get:21 http://deb.debian.org/debian bookworm/main amd64 libz3-4 amd64 4.8.12-3.1 [7216 kB]\n",
      "Get:22 http://deb.debian.org/debian bookworm/main amd64 libllvm15 amd64 1:15.0.6-4+b1 [23.1 MB]\n",
      "Get:23 http://deb.debian.org/debian bookworm/main amd64 libsensors-config all 1:3.6.0-7.1 [14.3 kB]\n",
      "Get:24 http://deb.debian.org/debian bookworm/main amd64 libsensors5 amd64 1:3.6.0-7.1 [34.2 kB]\n",
      "Get:25 http://deb.debian.org/debian bookworm/main amd64 libgl1-mesa-dri amd64 22.3.6-1+deb12u1 [7239 kB]\n",
      "Get:26 http://deb.debian.org/debian bookworm/main amd64 libglx-mesa0 amd64 22.3.6-1+deb12u1 [147 kB]\n",
      "Get:27 http://deb.debian.org/debian bookworm/main amd64 libglx0 amd64 1.6.0-1 [34.4 kB]\n",
      "Get:28 http://deb.debian.org/debian bookworm/main amd64 libgl1 amd64 1.6.0-1 [88.4 kB]\n",
      "Get:29 http://deb.debian.org/debian bookworm/main amd64 libgl1-mesa-glx amd64 22.3.6-1+deb12u1 [14.5 kB]\n",
      "Fetched 39.2 MB in 34s (1162 kB/s)                                             \n",
      "debconf: delaying package configuration, since apt-utils is not installed\n",
      "Selecting previously unselected package libdrm-common.\n",
      "(Reading database ... 23974 files and directories currently installed.)\n",
      "Preparing to unpack .../00-libdrm-common_2.4.114-1_all.deb ...\n",
      "Unpacking libdrm-common (2.4.114-1) ...\n",
      "Selecting previously unselected package libdrm2:amd64.\n",
      "Preparing to unpack .../01-libdrm2_2.4.114-1+b1_amd64.deb ...\n",
      "Unpacking libdrm2:amd64 (2.4.114-1+b1) ...\n",
      "Selecting previously unselected package libdrm-amdgpu1:amd64.\n",
      "Preparing to unpack .../02-libdrm-amdgpu1_2.4.114-1+b1_amd64.deb ...\n",
      "Unpacking libdrm-amdgpu1:amd64 (2.4.114-1+b1) ...\n",
      "Selecting previously unselected package libpciaccess0:amd64.\n",
      "Preparing to unpack .../03-libpciaccess0_0.17-2_amd64.deb ...\n",
      "Unpacking libpciaccess0:amd64 (0.17-2) ...\n",
      "Selecting previously unselected package libdrm-intel1:amd64.\n",
      "Preparing to unpack .../04-libdrm-intel1_2.4.114-1+b1_amd64.deb ...\n",
      "Unpacking libdrm-intel1:amd64 (2.4.114-1+b1) ...\n",
      "Selecting previously unselected package libdrm-nouveau2:amd64.\n",
      "Preparing to unpack .../05-libdrm-nouveau2_2.4.114-1+b1_amd64.deb ...\n",
      "Unpacking libdrm-nouveau2:amd64 (2.4.114-1+b1) ...\n",
      "Selecting previously unselected package libdrm-radeon1:amd64.\n",
      "Preparing to unpack .../06-libdrm-radeon1_2.4.114-1+b1_amd64.deb ...\n",
      "Unpacking libdrm-radeon1:amd64 (2.4.114-1+b1) ...\n",
      "Selecting previously unselected package libglvnd0:amd64.\n",
      "Preparing to unpack .../07-libglvnd0_1.6.0-1_amd64.deb ...\n",
      "Unpacking libglvnd0:amd64 (1.6.0-1) ...\n",
      "Selecting previously unselected package libglapi-mesa:amd64.\n",
      "Preparing to unpack .../08-libglapi-mesa_22.3.6-1+deb12u1_amd64.deb ...\n",
      "Unpacking libglapi-mesa:amd64 (22.3.6-1+deb12u1) ...\n",
      "Selecting previously unselected package libx11-xcb1:amd64.\n",
      "Preparing to unpack .../09-libx11-xcb1_2%3a1.8.4-2+deb12u1_amd64.deb ...\n",
      "Unpacking libx11-xcb1:amd64 (2:1.8.4-2+deb12u1) ...\n",
      "Selecting previously unselected package libxcb-dri2-0:amd64.\n",
      "Preparing to unpack .../10-libxcb-dri2-0_1.15-1_amd64.deb ...\n",
      "Unpacking libxcb-dri2-0:amd64 (1.15-1) ...\n",
      "Selecting previously unselected package libxcb-dri3-0:amd64.\n",
      "Preparing to unpack .../11-libxcb-dri3-0_1.15-1_amd64.deb ...\n",
      "Unpacking libxcb-dri3-0:amd64 (1.15-1) ...\n",
      "Selecting previously unselected package libxcb-glx0:amd64.\n",
      "Preparing to unpack .../12-libxcb-glx0_1.15-1_amd64.deb ...\n",
      "Unpacking libxcb-glx0:amd64 (1.15-1) ...\n",
      "Selecting previously unselected package libxcb-present0:amd64.\n",
      "Preparing to unpack .../13-libxcb-present0_1.15-1_amd64.deb ...\n",
      "Unpacking libxcb-present0:amd64 (1.15-1) ...\n",
      "Selecting previously unselected package libxcb-randr0:amd64.\n",
      "Preparing to unpack .../14-libxcb-randr0_1.15-1_amd64.deb ...\n",
      "Unpacking libxcb-randr0:amd64 (1.15-1) ...\n",
      "Selecting previously unselected package libxcb-sync1:amd64.\n",
      "Preparing to unpack .../15-libxcb-sync1_1.15-1_amd64.deb ...\n",
      "Unpacking libxcb-sync1:amd64 (1.15-1) ...\n",
      "Selecting previously unselected package libxcb-xfixes0:amd64.\n",
      "Preparing to unpack .../16-libxcb-xfixes0_1.15-1_amd64.deb ...\n",
      "Unpacking libxcb-xfixes0:amd64 (1.15-1) ...\n",
      "Selecting previously unselected package libxfixes3:amd64.\n",
      "Preparing to unpack .../17-libxfixes3_1%3a6.0.0-2_amd64.deb ...\n",
      "Unpacking libxfixes3:amd64 (1:6.0.0-2) ...\n",
      "Selecting previously unselected package libxshmfence1:amd64.\n",
      "Preparing to unpack .../18-libxshmfence1_1.3-1_amd64.deb ...\n",
      "Unpacking libxshmfence1:amd64 (1.3-1) ...\n",
      "Selecting previously unselected package libxxf86vm1:amd64.\n",
      "Preparing to unpack .../19-libxxf86vm1_1%3a1.1.4-1+b2_amd64.deb ...\n",
      "Unpacking libxxf86vm1:amd64 (1:1.1.4-1+b2) ...\n",
      "Selecting previously unselected package libz3-4:amd64.\n",
      "Preparing to unpack .../20-libz3-4_4.8.12-3.1_amd64.deb ...\n",
      "Unpacking libz3-4:amd64 (4.8.12-3.1) ...\n",
      "Selecting previously unselected package libllvm15:amd64.\n",
      "Preparing to unpack .../21-libllvm15_1%3a15.0.6-4+b1_amd64.deb ...\n",
      "Unpacking libllvm15:amd64 (1:15.0.6-4+b1) ...\n",
      "Selecting previously unselected package libsensors-config.\n",
      "Preparing to unpack .../22-libsensors-config_1%3a3.6.0-7.1_all.deb ...\n",
      "Unpacking libsensors-config (1:3.6.0-7.1) ...\n",
      "Selecting previously unselected package libsensors5:amd64.\n",
      "Preparing to unpack .../23-libsensors5_1%3a3.6.0-7.1_amd64.deb ...\n",
      "Unpacking libsensors5:amd64 (1:3.6.0-7.1) ...\n",
      "Selecting previously unselected package libgl1-mesa-dri:amd64.\n",
      "Preparing to unpack .../24-libgl1-mesa-dri_22.3.6-1+deb12u1_amd64.deb ...\n",
      "Unpacking libgl1-mesa-dri:amd64 (22.3.6-1+deb12u1) ...\n",
      "Selecting previously unselected package libglx-mesa0:amd64.\n",
      "Preparing to unpack .../25-libglx-mesa0_22.3.6-1+deb12u1_amd64.deb ...\n",
      "Unpacking libglx-mesa0:amd64 (22.3.6-1+deb12u1) ...\n",
      "Selecting previously unselected package libglx0:amd64.\n",
      "Preparing to unpack .../26-libglx0_1.6.0-1_amd64.deb ...\n",
      "Unpacking libglx0:amd64 (1.6.0-1) ...\n",
      "Selecting previously unselected package libgl1:amd64.\n",
      "Preparing to unpack .../27-libgl1_1.6.0-1_amd64.deb ...\n",
      "Unpacking libgl1:amd64 (1.6.0-1) ...\n",
      "Selecting previously unselected package libgl1-mesa-glx:amd64.\n",
      "Preparing to unpack .../28-libgl1-mesa-glx_22.3.6-1+deb12u1_amd64.deb ...\n",
      "Unpacking libgl1-mesa-glx:amd64 (22.3.6-1+deb12u1) ...\n",
      "Setting up libxcb-dri3-0:amd64 (1.15-1) ...\n",
      "Setting up libx11-xcb1:amd64 (2:1.8.4-2+deb12u1) ...\n",
      "Setting up libpciaccess0:amd64 (0.17-2) ...\n",
      "Setting up libxcb-xfixes0:amd64 (1.15-1) ...\n",
      "Setting up libglvnd0:amd64 (1.6.0-1) ...\n",
      "Setting up libxcb-glx0:amd64 (1.15-1) ...\n",
      "Setting up libsensors-config (1:3.6.0-7.1) ...\n",
      "Setting up libxxf86vm1:amd64 (1:1.1.4-1+b2) ...\n",
      "Setting up libxcb-present0:amd64 (1.15-1) ...\n",
      "Setting up libz3-4:amd64 (4.8.12-3.1) ...\n",
      "Setting up libxfixes3:amd64 (1:6.0.0-2) ...\n",
      "Setting up libxcb-sync1:amd64 (1.15-1) ...\n",
      "Setting up libsensors5:amd64 (1:3.6.0-7.1) ...\n",
      "Setting up libglapi-mesa:amd64 (22.3.6-1+deb12u1) ...\n",
      "Setting up libxcb-dri2-0:amd64 (1.15-1) ...\n",
      "Setting up libxshmfence1:amd64 (1.3-1) ...\n",
      "Setting up libxcb-randr0:amd64 (1.15-1) ...\n",
      "Setting up libllvm15:amd64 (1:15.0.6-4+b1) ...\n",
      "Setting up libdrm-common (2.4.114-1) ...\n",
      "Setting up libdrm2:amd64 (2.4.114-1+b1) ...\n",
      "Setting up libdrm-amdgpu1:amd64 (2.4.114-1+b1) ...\n",
      "Setting up libdrm-nouveau2:amd64 (2.4.114-1+b1) ...\n",
      "Setting up libdrm-radeon1:amd64 (2.4.114-1+b1) ...\n",
      "Setting up libdrm-intel1:amd64 (2.4.114-1+b1) ...\n",
      "Setting up libgl1-mesa-dri:amd64 (22.3.6-1+deb12u1) ...\n",
      "Setting up libglx-mesa0:amd64 (22.3.6-1+deb12u1) ...\n",
      "Setting up libglx0:amd64 (1.6.0-1) ...\n",
      "Setting up libgl1:amd64 (1.6.0-1) ...\n",
      "Setting up libgl1-mesa-glx:amd64 (22.3.6-1+deb12u1) ...\n",
      "Processing triggers for libc-bin (2.36-9) ...\n"
     ]
    }
   ],
   "source": [
    "!apt-get -y install libgl1-mesa-glx"
   ]
  },
  {
   "cell_type": "code",
   "execution_count": 13,
   "id": "7f9e73c4-6702-45c4-85a6-00d218766d14",
   "metadata": {
    "tags": []
   },
   "outputs": [
    {
     "name": "stdout",
     "output_type": "stream",
     "text": [
      "Reading package lists... Done\n",
      "Building dependency tree... Done\n",
      "Reading state information... Done\n",
      "libglib2.0-0 is already the newest version (2.74.6-2).\n",
      "0 upgraded, 0 newly installed, 0 to remove and 1 not upgraded.\n"
     ]
    }
   ],
   "source": [
    "!apt-get -y install libglib2.0-0"
   ]
  },
  {
   "cell_type": "code",
   "execution_count": 14,
   "id": "0caedf60-26b3-4089-af6a-c5776a116148",
   "metadata": {},
   "outputs": [
    {
     "name": "stdout",
     "output_type": "stream",
     "text": [
      "Collecting future\n",
      "  Downloading future-0.18.3.tar.gz (840 kB)\n",
      "\u001b[2K     \u001b[90m━━━━━━━━━━━━━━━━━━━━━━━━━━━━━━━━━━━━━━━\u001b[0m \u001b[32m840.9/840.9 kB\u001b[0m \u001b[31m1.1 MB/s\u001b[0m eta \u001b[36m0:00:00\u001b[0m00:01\u001b[0m00:01\u001b[0m\n",
      "\u001b[?25h  Preparing metadata (setup.py) ... \u001b[?25ldone\n",
      "\u001b[?25hCollecting tensorboard\n",
      "  Downloading tensorboard-2.13.0-py3-none-any.whl (5.6 MB)\n",
      "\u001b[2K     \u001b[90m━━━━━━━━━━━━━━━━━━━━━━━━━━━━━━━━━━━━━━━━\u001b[0m \u001b[32m5.6/5.6 MB\u001b[0m \u001b[31m1.1 MB/s\u001b[0m eta \u001b[36m0:00:00\u001b[0m00:01\u001b[0m00:01\u001b[0m\n",
      "\u001b[?25hRequirement already satisfied: wheel>=0.26 in /opt/conda/lib/python3.10/site-packages (from tensorboard) (0.38.4)\n",
      "Collecting werkzeug>=1.0.1\n",
      "  Downloading Werkzeug-2.3.6-py3-none-any.whl (242 kB)\n",
      "\u001b[2K     \u001b[90m━━━━━━━━━━━━━━━━━━━━━━━━━━━━━━━━━━━━━━━\u001b[0m \u001b[32m242.5/242.5 kB\u001b[0m \u001b[31m1.0 MB/s\u001b[0m eta \u001b[36m0:00:00\u001b[0ma \u001b[36m0:00:01\u001b[0m\n",
      "\u001b[?25hRequirement already satisfied: setuptools>=41.0.0 in /opt/conda/lib/python3.10/site-packages (from tensorboard) (65.6.3)\n",
      "Requirement already satisfied: numpy>=1.12.0 in /opt/conda/lib/python3.10/site-packages (from tensorboard) (1.24.3)\n",
      "Collecting google-auth<3,>=1.6.3\n",
      "  Downloading google_auth-2.21.0-py2.py3-none-any.whl (182 kB)\n",
      "\u001b[2K     \u001b[90m━━━━━━━━━━━━━━━━━━━━━━━━━━━━━━━━━━━━━━━\u001b[0m \u001b[32m182.1/182.1 kB\u001b[0m \u001b[31m1.1 MB/s\u001b[0m eta \u001b[36m0:00:00\u001b[0ma \u001b[36m0:00:01\u001b[0m\n",
      "\u001b[?25hCollecting google-auth-oauthlib<1.1,>=0.5\n",
      "  Downloading google_auth_oauthlib-1.0.0-py2.py3-none-any.whl (18 kB)\n",
      "Requirement already satisfied: markdown>=2.6.8 in /opt/conda/lib/python3.10/site-packages (from tensorboard) (3.4.3)\n",
      "Requirement already satisfied: requests<3,>=2.21.0 in /opt/conda/lib/python3.10/site-packages (from tensorboard) (2.29.0)\n",
      "Collecting tensorboard-data-server<0.8.0,>=0.7.0\n",
      "  Downloading tensorboard_data_server-0.7.1-py3-none-manylinux2014_x86_64.whl (6.6 MB)\n",
      "\u001b[2K     \u001b[90m━━━━━━━━━━━━━━━━━━━━━━━━━━━━━━━━━━━━━━━━\u001b[0m \u001b[32m6.6/6.6 MB\u001b[0m \u001b[31m1.1 MB/s\u001b[0m eta \u001b[36m0:00:00\u001b[0m00:01\u001b[0m00:01\u001b[0m\n",
      "\u001b[?25hCollecting absl-py>=0.4\n",
      "  Downloading absl_py-1.4.0-py3-none-any.whl (126 kB)\n",
      "\u001b[2K     \u001b[90m━━━━━━━━━━━━━━━━━━━━━━━━━━━━━━━━━━━━━\u001b[0m \u001b[32m126.5/126.5 kB\u001b[0m \u001b[31m833.6 kB/s\u001b[0m eta \u001b[36m0:00:00\u001b[0ma \u001b[36m0:00:01\u001b[0m\n",
      "\u001b[?25hCollecting protobuf>=3.19.6\n",
      "  Downloading protobuf-4.23.4-cp37-abi3-manylinux2014_x86_64.whl (304 kB)\n",
      "\u001b[2K     \u001b[90m━━━━━━━━━━━━━━━━━━━━━━━━━━━━━━━━━━━━━━━\u001b[0m \u001b[32m304.5/304.5 kB\u001b[0m \u001b[31m1.1 MB/s\u001b[0m eta \u001b[36m0:00:00\u001b[0ma \u001b[36m0:00:01\u001b[0m\n",
      "\u001b[?25hCollecting grpcio>=1.48.2\n",
      "  Downloading grpcio-1.56.0-cp310-cp310-manylinux_2_17_x86_64.manylinux2014_x86_64.whl (5.2 MB)\n",
      "\u001b[2K     \u001b[90m━━━━━━━━━━━━━━━━━━━━━━━━━━━━━━━━━━━━━━━━\u001b[0m \u001b[32m5.2/5.2 MB\u001b[0m \u001b[31m1.2 MB/s\u001b[0m eta \u001b[36m0:00:00\u001b[0m00:01\u001b[0m00:01\u001b[0m\n",
      "\u001b[?25hCollecting pyasn1-modules>=0.2.1\n",
      "  Downloading pyasn1_modules-0.3.0-py2.py3-none-any.whl (181 kB)\n",
      "\u001b[2K     \u001b[90m━━━━━━━━━━━━━━━━━━━━━━━━━━━━━━━━━━━━━━━\u001b[0m \u001b[32m181.3/181.3 kB\u001b[0m \u001b[31m1.1 MB/s\u001b[0m eta \u001b[36m0:00:00\u001b[0ma \u001b[36m0:00:01\u001b[0m\n",
      "\u001b[?25hCollecting rsa<5,>=3.1.4\n",
      "  Downloading rsa-4.9-py3-none-any.whl (34 kB)\n",
      "Requirement already satisfied: urllib3<2.0 in /opt/conda/lib/python3.10/site-packages (from google-auth<3,>=1.6.3->tensorboard) (1.26.15)\n",
      "Collecting cachetools<6.0,>=2.0.0\n",
      "  Downloading cachetools-5.3.1-py3-none-any.whl (9.3 kB)\n",
      "Requirement already satisfied: six>=1.9.0 in /opt/conda/lib/python3.10/site-packages (from google-auth<3,>=1.6.3->tensorboard) (1.16.0)\n",
      "Collecting requests-oauthlib>=0.7.0\n",
      "  Downloading requests_oauthlib-1.3.1-py2.py3-none-any.whl (23 kB)\n",
      "Requirement already satisfied: charset-normalizer<4,>=2 in /opt/conda/lib/python3.10/site-packages (from requests<3,>=2.21.0->tensorboard) (2.0.4)\n",
      "Requirement already satisfied: idna<4,>=2.5 in /opt/conda/lib/python3.10/site-packages (from requests<3,>=2.21.0->tensorboard) (3.4)\n",
      "Requirement already satisfied: certifi>=2017.4.17 in /opt/conda/lib/python3.10/site-packages (from requests<3,>=2.21.0->tensorboard) (2023.5.7)\n",
      "Requirement already satisfied: MarkupSafe>=2.1.1 in /opt/conda/lib/python3.10/site-packages (from werkzeug>=1.0.1->tensorboard) (2.1.1)\n",
      "Collecting pyasn1<0.6.0,>=0.4.6\n",
      "  Downloading pyasn1-0.5.0-py2.py3-none-any.whl (83 kB)\n",
      "\u001b[2K     \u001b[90m━━━━━━━━━━━━━━━━━━━━━━━━━━━━━━━━━━━━━━━\u001b[0m \u001b[32m83.9/83.9 kB\u001b[0m \u001b[31m307.2 kB/s\u001b[0m eta \u001b[36m0:00:00\u001b[0m00:01\u001b[0m0:01\u001b[0m\n",
      "\u001b[?25hCollecting oauthlib>=3.0.0\n",
      "  Downloading oauthlib-3.2.2-py3-none-any.whl (151 kB)\n",
      "\u001b[2K     \u001b[90m━━━━━━━━━━━━━━━━━━━━━━━━━━━━━━━━━━━━━\u001b[0m \u001b[32m151.7/151.7 kB\u001b[0m \u001b[31m949.8 kB/s\u001b[0m eta \u001b[36m0:00:00\u001b[0ma \u001b[36m0:00:01\u001b[0m\n",
      "\u001b[?25hBuilding wheels for collected packages: future\n",
      "  Building wheel for future (setup.py) ... \u001b[?25ldone\n",
      "\u001b[?25h  Created wheel for future: filename=future-0.18.3-py3-none-any.whl size=492025 sha256=09956b1ddff9d2014631a24fadab9f124e995463e6f2ec805bd1824e1890df70\n",
      "  Stored in directory: /root/.cache/pip/wheels/5e/a9/47/f118e66afd12240e4662752cc22cefae5d97275623aa8ef57d\n",
      "Successfully built future\n",
      "Installing collected packages: werkzeug, tensorboard-data-server, pyasn1, protobuf, oauthlib, grpcio, future, cachetools, absl-py, rsa, requests-oauthlib, pyasn1-modules, google-auth, google-auth-oauthlib, tensorboard\n",
      "Successfully installed absl-py-1.4.0 cachetools-5.3.1 future-0.18.3 google-auth-2.21.0 google-auth-oauthlib-1.0.0 grpcio-1.56.0 oauthlib-3.2.2 protobuf-4.23.4 pyasn1-0.5.0 pyasn1-modules-0.3.0 requests-oauthlib-1.3.1 rsa-4.9 tensorboard-2.13.0 tensorboard-data-server-0.7.1 werkzeug-2.3.6\n",
      "\u001b[33mWARNING: Running pip as the 'root' user can result in broken permissions and conflicting behaviour with the system package manager. It is recommended to use a virtual environment instead: https://pip.pypa.io/warnings/venv\u001b[0m\u001b[33m\n",
      "\u001b[0m"
     ]
    }
   ],
   "source": [
    "!pip install future tensorboard"
   ]
  },
  {
   "cell_type": "code",
   "execution_count": 16,
   "id": "c135de94-3a1d-4dc7-a5f9-b0b52e7d59e0",
   "metadata": {},
   "outputs": [
    {
     "name": "stdout",
     "output_type": "stream",
     "text": [
      "Requirement already satisfied: pandas in /usr/local/lib/python3.8/site-packages (2.0.3)\n",
      "Requirement already satisfied: python-dateutil>=2.8.2 in /usr/local/lib/python3.8/site-packages (from pandas) (2.8.2)\n",
      "Requirement already satisfied: pytz>=2020.1 in /usr/local/lib/python3.8/site-packages (from pandas) (2023.3)\n",
      "Requirement already satisfied: tzdata>=2022.1 in /usr/local/lib/python3.8/site-packages (from pandas) (2023.3)\n",
      "Requirement already satisfied: numpy>=1.20.3 in /usr/local/lib/python3.8/site-packages (from pandas) (1.24.4)\n",
      "Requirement already satisfied: six>=1.5 in /usr/local/lib/python3.8/site-packages (from python-dateutil>=2.8.2->pandas) (1.16.0)\n",
      "\u001b[33mWARNING: Running pip as the 'root' user can result in broken permissions and conflicting behaviour with the system package manager. It is recommended to use a virtual environment instead: https://pip.pypa.io/warnings/venv\u001b[0m\u001b[33m\n",
      "\u001b[0m"
     ]
    }
   ],
   "source": [
    "!pip install pandas"
   ]
  },
  {
   "cell_type": "code",
   "execution_count": 17,
   "id": "55e6b8eb-04fe-4a72-a18c-c126fee7e30b",
   "metadata": {},
   "outputs": [
    {
     "name": "stdout",
     "output_type": "stream",
     "text": [
      "Collecting ipywidgets\n",
      "  Downloading ipywidgets-8.0.7-py3-none-any.whl (138 kB)\n",
      "\u001b[2K     \u001b[90m━━━━━━━━━━━━━━━━━━━━━━━━━━━━━━━━━━━━━\u001b[0m \u001b[32m138.3/138.3 kB\u001b[0m \u001b[31m983.5 kB/s\u001b[0m eta \u001b[36m0:00:00\u001b[0ma \u001b[36m0:00:01\u001b[0m\n",
      "\u001b[?25hRequirement already satisfied: ipykernel>=4.5.1 in /usr/local/lib/python3.8/site-packages (from ipywidgets) (6.24.0)\n",
      "Requirement already satisfied: ipython>=6.1.0 in /usr/local/lib/python3.8/site-packages (from ipywidgets) (8.12.2)\n",
      "Requirement already satisfied: traitlets>=4.3.1 in /usr/local/lib/python3.8/site-packages (from ipywidgets) (5.9.0)\n",
      "Collecting widgetsnbextension~=4.0.7 (from ipywidgets)\n",
      "  Downloading widgetsnbextension-4.0.8-py3-none-any.whl (2.3 MB)\n",
      "\u001b[2K     \u001b[90m━━━━━━━━━━━━━━━━━━━━━━━━━━━━━━━━━━━━━━━━\u001b[0m \u001b[32m2.3/2.3 MB\u001b[0m \u001b[31m1.1 MB/s\u001b[0m eta \u001b[36m0:00:00\u001b[0m00:01\u001b[0m00:01\u001b[0m\n",
      "\u001b[?25hCollecting jupyterlab-widgets~=3.0.7 (from ipywidgets)\n",
      "  Downloading jupyterlab_widgets-3.0.8-py3-none-any.whl (214 kB)\n",
      "\u001b[2K     \u001b[90m━━━━━━━━━━━━━━━━━━━━━━━━━━━━━━━━━━━━━━━\u001b[0m \u001b[32m215.0/215.0 kB\u001b[0m \u001b[31m1.1 MB/s\u001b[0m eta \u001b[36m0:00:00\u001b[0ma \u001b[36m0:00:01\u001b[0m\n",
      "\u001b[?25hRequirement already satisfied: comm>=0.1.1 in /usr/local/lib/python3.8/site-packages (from ipykernel>=4.5.1->ipywidgets) (0.1.3)\n",
      "Requirement already satisfied: debugpy>=1.6.5 in /usr/local/lib/python3.8/site-packages (from ipykernel>=4.5.1->ipywidgets) (1.6.7)\n",
      "Requirement already satisfied: jupyter-client>=6.1.12 in /usr/local/lib/python3.8/site-packages (from ipykernel>=4.5.1->ipywidgets) (8.3.0)\n",
      "Requirement already satisfied: jupyter-core!=5.0.*,>=4.12 in /usr/local/lib/python3.8/site-packages (from ipykernel>=4.5.1->ipywidgets) (5.3.1)\n",
      "Requirement already satisfied: matplotlib-inline>=0.1 in /usr/local/lib/python3.8/site-packages (from ipykernel>=4.5.1->ipywidgets) (0.1.6)\n",
      "Requirement already satisfied: nest-asyncio in /usr/local/lib/python3.8/site-packages (from ipykernel>=4.5.1->ipywidgets) (1.5.6)\n",
      "Requirement already satisfied: packaging in /usr/local/lib/python3.8/site-packages (from ipykernel>=4.5.1->ipywidgets) (23.1)\n",
      "Requirement already satisfied: psutil in /usr/local/lib/python3.8/site-packages (from ipykernel>=4.5.1->ipywidgets) (5.9.5)\n",
      "Requirement already satisfied: pyzmq>=20 in /usr/local/lib/python3.8/site-packages (from ipykernel>=4.5.1->ipywidgets) (25.1.0)\n",
      "Requirement already satisfied: tornado>=6.1 in /usr/local/lib/python3.8/site-packages (from ipykernel>=4.5.1->ipywidgets) (6.3.2)\n",
      "Requirement already satisfied: backcall in /usr/local/lib/python3.8/site-packages (from ipython>=6.1.0->ipywidgets) (0.2.0)\n",
      "Requirement already satisfied: decorator in /usr/local/lib/python3.8/site-packages (from ipython>=6.1.0->ipywidgets) (5.1.1)\n",
      "Requirement already satisfied: jedi>=0.16 in /usr/local/lib/python3.8/site-packages (from ipython>=6.1.0->ipywidgets) (0.18.2)\n",
      "Requirement already satisfied: pickleshare in /usr/local/lib/python3.8/site-packages (from ipython>=6.1.0->ipywidgets) (0.7.5)\n",
      "Requirement already satisfied: prompt-toolkit!=3.0.37,<3.1.0,>=3.0.30 in /usr/local/lib/python3.8/site-packages (from ipython>=6.1.0->ipywidgets) (3.0.39)\n",
      "Requirement already satisfied: pygments>=2.4.0 in /usr/local/lib/python3.8/site-packages (from ipython>=6.1.0->ipywidgets) (2.15.1)\n",
      "Requirement already satisfied: stack-data in /usr/local/lib/python3.8/site-packages (from ipython>=6.1.0->ipywidgets) (0.6.2)\n",
      "Requirement already satisfied: typing-extensions in /usr/local/lib/python3.8/site-packages (from ipython>=6.1.0->ipywidgets) (4.7.1)\n",
      "Requirement already satisfied: pexpect>4.3 in /usr/local/lib/python3.8/site-packages (from ipython>=6.1.0->ipywidgets) (4.8.0)\n",
      "Requirement already satisfied: parso<0.9.0,>=0.8.0 in /usr/local/lib/python3.8/site-packages (from jedi>=0.16->ipython>=6.1.0->ipywidgets) (0.8.3)\n",
      "Requirement already satisfied: importlib-metadata>=4.8.3 in /usr/local/lib/python3.8/site-packages (from jupyter-client>=6.1.12->ipykernel>=4.5.1->ipywidgets) (6.8.0)\n",
      "Requirement already satisfied: python-dateutil>=2.8.2 in /usr/local/lib/python3.8/site-packages (from jupyter-client>=6.1.12->ipykernel>=4.5.1->ipywidgets) (2.8.2)\n",
      "Requirement already satisfied: platformdirs>=2.5 in /usr/local/lib/python3.8/site-packages (from jupyter-core!=5.0.*,>=4.12->ipykernel>=4.5.1->ipywidgets) (3.8.1)\n",
      "Requirement already satisfied: ptyprocess>=0.5 in /usr/local/lib/python3.8/site-packages (from pexpect>4.3->ipython>=6.1.0->ipywidgets) (0.7.0)\n",
      "Requirement already satisfied: wcwidth in /usr/local/lib/python3.8/site-packages (from prompt-toolkit!=3.0.37,<3.1.0,>=3.0.30->ipython>=6.1.0->ipywidgets) (0.2.6)\n",
      "Requirement already satisfied: executing>=1.2.0 in /usr/local/lib/python3.8/site-packages (from stack-data->ipython>=6.1.0->ipywidgets) (1.2.0)\n",
      "Requirement already satisfied: asttokens>=2.1.0 in /usr/local/lib/python3.8/site-packages (from stack-data->ipython>=6.1.0->ipywidgets) (2.2.1)\n",
      "Requirement already satisfied: pure-eval in /usr/local/lib/python3.8/site-packages (from stack-data->ipython>=6.1.0->ipywidgets) (0.2.2)\n",
      "Requirement already satisfied: six in /usr/local/lib/python3.8/site-packages (from asttokens>=2.1.0->stack-data->ipython>=6.1.0->ipywidgets) (1.16.0)\n",
      "Requirement already satisfied: zipp>=0.5 in /usr/local/lib/python3.8/site-packages (from importlib-metadata>=4.8.3->jupyter-client>=6.1.12->ipykernel>=4.5.1->ipywidgets) (3.16.0)\n",
      "Installing collected packages: widgetsnbextension, jupyterlab-widgets, ipywidgets\n",
      "Successfully installed ipywidgets-8.0.7 jupyterlab-widgets-3.0.8 widgetsnbextension-4.0.8\n",
      "\u001b[33mWARNING: Running pip as the 'root' user can result in broken permissions and conflicting behaviour with the system package manager. It is recommended to use a virtual environment instead: https://pip.pypa.io/warnings/venv\u001b[0m\u001b[33m\n",
      "\u001b[0m"
     ]
    }
   ],
   "source": [
    "!pip install ipywidgets"
   ]
  },
  {
   "cell_type": "code",
   "execution_count": null,
   "id": "8d776cdb-6c71-4842-80c5-e67bd35d2fb0",
   "metadata": {},
   "outputs": [],
   "source": []
  }
 ],
 "metadata": {
  "kernelspec": {
   "display_name": "Python 3 (ipykernel)",
   "language": "python",
   "name": "python3"
  },
  "language_info": {
   "codemirror_mode": {
    "name": "ipython",
    "version": 3
   },
   "file_extension": ".py",
   "mimetype": "text/x-python",
   "name": "python",
   "nbconvert_exporter": "python",
   "pygments_lexer": "ipython3",
   "version": "3.8.17"
  }
 },
 "nbformat": 4,
 "nbformat_minor": 5
}
