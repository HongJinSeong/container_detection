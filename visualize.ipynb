{
 "cells": [
  {
   "cell_type": "code",
   "execution_count": 1,
   "id": "bbdd3433-e3cd-4f7b-87ea-5120cd054652",
   "metadata": {
    "tags": []
   },
   "outputs": [
    {
     "name": "stderr",
     "output_type": "stream",
     "text": [
      "/usr/local/lib/python3.8/site-packages/tqdm/auto.py:21: TqdmWarning: IProgress not found. Please update jupyter and ipywidgets. See https://ipywidgets.readthedocs.io/en/stable/user_install.html\n",
      "  from .autonotebook import tqdm as notebook_tqdm\n"
     ]
    },
    {
     "name": "stdout",
     "output_type": "stream",
     "text": [
      "1.0.0rc1\n",
      "3.1.0\n",
      "11.1\n",
      "GCC 7.3\n"
     ]
    }
   ],
   "source": [
    "## mmrotate1.x기반으로 진행 \n",
    "# Check MMRotate installation\n",
    "import mmrotate\n",
    "print(mmrotate.__version__)\n",
    "# Check MMDetection installation\n",
    "import mmdet\n",
    "print(mmdet.__version__)\n",
    "\n",
    "# Check mmcv installation\n",
    "from mmcv.ops import get_compiling_cuda_version, get_compiler_version\n",
    "print(get_compiling_cuda_version())\n",
    "print(get_compiler_version())"
   ]
  },
  {
   "cell_type": "code",
   "execution_count": 2,
   "id": "63f90fd1-d867-475a-b1cd-f85e68af320e",
   "metadata": {},
   "outputs": [],
   "source": [
    "## config LOAD\n",
    "from mmengine.config import Config\n",
    "cfg = Config.fromfile('custom_CONFIG_HJS.py')"
   ]
  },
  {
   "cell_type": "code",
   "execution_count": 3,
   "id": "66d5b3e4-9e9e-4ed5-9de5-62fe959d3d38",
   "metadata": {},
   "outputs": [
    {
     "name": "stdout",
     "output_type": "stream",
     "text": [
      "Loads checkpoint by local backend from path: ver1/epoch_100.pth\n"
     ]
    }
   ],
   "source": [
    "from mmdet.apis import init_detector, inference_detector\n",
    "import mmrotate\n",
    "\n",
    "config_file = 'custom_CONFIG_HJS.py'\n",
    "checkpoint_file = 'ver1/epoch_100.pth'\n",
    "model = init_detector(config_file, checkpoint_file, device='cuda:0')"
   ]
  },
  {
   "cell_type": "code",
   "execution_count": 4,
   "id": "700566fc-5115-4b38-95eb-f8f98ba98d18",
   "metadata": {},
   "outputs": [
    {
     "name": "stdout",
     "output_type": "stream",
     "text": [
      "<DetDataSample(\n",
      "\n",
      "    META INFORMATION\n",
      "    img_id: 0\n",
      "    batch_input_shape: (5120, 5120)\n",
      "    img_path: None\n",
      "    ori_shape: (1024, 1024)\n",
      "    img_shape: (5120, 5120)\n",
      "    scale_factor: (5.0, 5.0)\n",
      "    pad_shape: (5120, 5120)\n",
      "\n",
      "    DATA FIELDS\n",
      "    pred_instances: <InstanceData(\n",
      "        \n",
      "            META INFORMATION\n",
      "        \n",
      "            DATA FIELDS\n",
      "            labels: tensor([0, 0, 0, 0, 0, 0, 0, 0, 0, 0, 0, 0, 0, 0, 0, 0, 0, 0, 0, 0, 0, 0, 0, 0,\n",
      "                        0, 0, 0, 0, 0, 0, 0, 0, 0, 0, 0, 0, 0, 0, 0, 0, 0, 0, 0, 0, 0, 0, 0, 0,\n",
      "                        0, 0, 0, 0, 0, 0, 0, 0, 0, 0, 0, 0, 0, 0, 0, 0, 0, 0, 0, 0, 0, 0, 0, 0,\n",
      "                        0, 0, 0, 0, 0, 0, 0, 0, 0, 0, 0, 0, 0, 0, 0, 0, 0, 0, 0, 0, 0, 0, 0, 0,\n",
      "                        0, 0, 0, 0, 0, 0, 0, 0, 0, 0, 0, 0, 0, 0, 0, 0, 0, 0, 0, 0, 0, 0, 0, 0,\n",
      "                        0, 0, 0, 0, 0, 0, 0, 0, 0, 0, 0, 0, 0, 0, 0, 0, 0, 0, 0, 0, 0, 0, 0, 0,\n",
      "                        0, 0, 0, 0, 0, 0, 0, 0, 0, 0, 0, 0, 0, 0, 0, 0, 0, 0, 0, 0, 0, 0, 0, 0,\n",
      "                        0, 0, 0, 0, 0, 0, 0, 0, 0, 0, 0, 0, 0, 0, 0, 0, 0, 0, 0, 0, 0, 0, 0, 0,\n",
      "                        0, 0, 0, 0, 0, 0, 0, 0, 0, 0, 0, 0, 0, 0, 0, 0, 0, 0, 0, 0, 0, 0, 0, 0,\n",
      "                        0, 0, 0, 0, 0, 0, 0, 0, 0, 0, 0, 0, 0, 0, 0, 0, 0, 0, 0, 0, 0, 0, 0, 0,\n",
      "                        0, 0, 0, 0, 0, 0, 0, 0, 0, 0, 0, 0, 0, 0, 0, 0, 0, 0, 0, 0, 0, 0, 0, 0,\n",
      "                        0, 0, 0, 0, 0, 0, 0, 0, 0, 0, 0, 0, 0, 0, 0, 0, 0, 0, 0, 0, 0, 0, 0, 0,\n",
      "                        0, 0, 0, 0, 0, 0, 0, 0, 0, 0, 0, 0, 0, 0, 0, 0, 0, 0, 0, 0, 0, 0, 0, 0,\n",
      "                        0, 0, 0, 0, 0, 0, 0, 0, 0, 0, 0, 0, 0, 0, 0, 0, 0, 0, 0, 0, 0, 0, 0, 0,\n",
      "                        0, 0, 0, 0, 0, 0, 0, 0, 0, 0, 0, 0, 0, 0, 0, 0, 0, 0, 0, 0, 0, 0, 0, 0,\n",
      "                        0, 0, 0, 0, 0, 0, 0, 0, 0, 0, 0, 0, 0, 0, 0, 0, 0, 0, 0, 0, 0, 0, 0, 0,\n",
      "                        0, 0, 0, 0, 0, 0, 0, 0, 0, 0, 0, 0, 0, 0, 0, 0, 0, 0, 0, 0, 0, 0, 0, 0,\n",
      "                        0, 0, 0, 0, 0, 0, 0, 0, 0, 0, 0, 0, 0, 0, 0, 0, 0, 0, 0, 0, 0, 0, 0, 0,\n",
      "                        0, 0, 0, 0, 0, 0, 0, 0, 0, 0, 0, 0, 0, 0, 0, 0, 0, 0, 0, 0, 0, 0, 0, 0,\n",
      "                        0, 0, 0, 0, 0, 0, 0, 0, 0, 0, 0, 0, 0, 0], device='cuda:0')\n",
      "            bboxes: tensor([[ 4.6624e+02,  3.4057e+02,  1.6804e+01,  7.7992e+00,  2.9774e-01],\n",
      "                        [ 3.5947e+02,  3.1804e+02,  1.7248e+01,  7.8816e+00,  3.0345e-01],\n",
      "                        [ 1.1444e+02,  3.4508e+02,  1.7891e+01,  8.5337e+00,  2.9602e-01],\n",
      "                        ...,\n",
      "                        [ 5.7141e+02,  4.7912e+02,  2.2192e+01,  2.1414e+01, -1.7945e-01],\n",
      "                        [ 7.2677e+02,  9.0122e+01,  1.4290e+01,  2.3704e+01, -1.6644e-03],\n",
      "                        [ 1.2568e+02,  5.7311e+02,  3.1482e+01,  1.8273e+01, -3.7616e-01]],\n",
      "                       device='cuda:0')\n",
      "            scores: tensor([0.3862, 0.3833, 0.3738, 0.3718, 0.3650, 0.3509, 0.3492, 0.3449, 0.3398,\n",
      "                        0.3397, 0.3391, 0.3364, 0.3363, 0.3345, 0.3341, 0.3330, 0.3330, 0.3325,\n",
      "                        0.3321, 0.3316, 0.3312, 0.3296, 0.3294, 0.3289, 0.3286, 0.3280, 0.3277,\n",
      "                        0.3266, 0.3256, 0.3238, 0.3235, 0.3232, 0.3229, 0.3225, 0.3220, 0.3216,\n",
      "                        0.3215, 0.3208, 0.3207, 0.3198, 0.3189, 0.3187, 0.3177, 0.3174, 0.3171,\n",
      "                        0.3169, 0.3163, 0.3163, 0.3163, 0.3153, 0.3153, 0.3153, 0.3151, 0.3151,\n",
      "                        0.3143, 0.3134, 0.3123, 0.3118, 0.3096, 0.3090, 0.3089, 0.3077, 0.3075,\n",
      "                        0.3075, 0.3072, 0.3071, 0.3062, 0.3058, 0.3053, 0.3049, 0.3040, 0.3031,\n",
      "                        0.3017, 0.3010, 0.3010, 0.3008, 0.3007, 0.3006, 0.3002, 0.3000, 0.2996,\n",
      "                        0.2993, 0.2987, 0.2985, 0.2980, 0.2978, 0.2970, 0.2968, 0.2967, 0.2965,\n",
      "                        0.2965, 0.2964, 0.2960, 0.2954, 0.2950, 0.2949, 0.2944, 0.2938, 0.2934,\n",
      "                        0.2932, 0.2920, 0.2915, 0.2912, 0.2909, 0.2908, 0.2905, 0.2903, 0.2902,\n",
      "                        0.2896, 0.2892, 0.2892, 0.2890, 0.2889, 0.2889, 0.2888, 0.2888, 0.2888,\n",
      "                        0.2885, 0.2879, 0.2877, 0.2872, 0.2869, 0.2859, 0.2854, 0.2851, 0.2849,\n",
      "                        0.2847, 0.2846, 0.2845, 0.2838, 0.2838, 0.2836, 0.2831, 0.2829, 0.2823,\n",
      "                        0.2819, 0.2817, 0.2817, 0.2815, 0.2810, 0.2809, 0.2807, 0.2806, 0.2804,\n",
      "                        0.2799, 0.2789, 0.2787, 0.2787, 0.2786, 0.2781, 0.2777, 0.2777, 0.2776,\n",
      "                        0.2775, 0.2771, 0.2767, 0.2765, 0.2764, 0.2761, 0.2760, 0.2759, 0.2757,\n",
      "                        0.2755, 0.2753, 0.2752, 0.2751, 0.2747, 0.2746, 0.2743, 0.2742, 0.2741,\n",
      "                        0.2740, 0.2737, 0.2736, 0.2734, 0.2731, 0.2729, 0.2729, 0.2722, 0.2712,\n",
      "                        0.2712, 0.2712, 0.2711, 0.2703, 0.2688, 0.2688, 0.2687, 0.2685, 0.2683,\n",
      "                        0.2681, 0.2679, 0.2679, 0.2674, 0.2672, 0.2663, 0.2648, 0.2646, 0.2636,\n",
      "                        0.2635, 0.2634, 0.2632, 0.2632, 0.2629, 0.2628, 0.2625, 0.2620, 0.2617,\n",
      "                        0.2613, 0.2612, 0.2611, 0.2610, 0.2601, 0.2600, 0.2595, 0.2593, 0.2591,\n",
      "                        0.2590, 0.2582, 0.2572, 0.2571, 0.2567, 0.2565, 0.2564, 0.2561, 0.2556,\n",
      "                        0.2546, 0.2544, 0.2539, 0.2536, 0.2535, 0.2533, 0.2531, 0.2527, 0.2524,\n",
      "                        0.2523, 0.2522, 0.2521, 0.2509, 0.2507, 0.2506, 0.2500, 0.2498, 0.2496,\n",
      "                        0.2493, 0.2492, 0.2488, 0.2483, 0.2482, 0.2481, 0.2481, 0.2480, 0.2478,\n",
      "                        0.2476, 0.2476, 0.2475, 0.2475, 0.2472, 0.2469, 0.2468, 0.2464, 0.2463,\n",
      "                        0.2459, 0.2458, 0.2452, 0.2450, 0.2438, 0.2432, 0.2430, 0.2429, 0.2425,\n",
      "                        0.2422, 0.2420, 0.2419, 0.2416, 0.2414, 0.2408, 0.2408, 0.2407, 0.2406,\n",
      "                        0.2395, 0.2393, 0.2393, 0.2389, 0.2387, 0.2384, 0.2383, 0.2381, 0.2379,\n",
      "                        0.2378, 0.2377, 0.2375, 0.2373, 0.2373, 0.2371, 0.2371, 0.2371, 0.2369,\n",
      "                        0.2368, 0.2366, 0.2364, 0.2360, 0.2358, 0.2357, 0.2357, 0.2354, 0.2354,\n",
      "                        0.2353, 0.2348, 0.2347, 0.2347, 0.2343, 0.2338, 0.2327, 0.2327, 0.2322,\n",
      "                        0.2321, 0.2315, 0.2312, 0.2309, 0.2306, 0.2304, 0.2301, 0.2299, 0.2298,\n",
      "                        0.2298, 0.2297, 0.2295, 0.2293, 0.2292, 0.2287, 0.2287, 0.2282, 0.2281,\n",
      "                        0.2280, 0.2278, 0.2276, 0.2276, 0.2276, 0.2276, 0.2271, 0.2269, 0.2268,\n",
      "                        0.2267, 0.2260, 0.2259, 0.2258, 0.2257, 0.2256, 0.2253, 0.2252, 0.2252,\n",
      "                        0.2251, 0.2247, 0.2246, 0.2243, 0.2240, 0.2238, 0.2237, 0.2235, 0.2234,\n",
      "                        0.2232, 0.2231, 0.2230, 0.2223, 0.2222, 0.2222, 0.2221, 0.2218, 0.2217,\n",
      "                        0.2214, 0.2214, 0.2214, 0.2206, 0.2206, 0.2205, 0.2202, 0.2202, 0.2200,\n",
      "                        0.2198, 0.2196, 0.2191, 0.2190, 0.2189, 0.2185, 0.2182, 0.2179, 0.2173,\n",
      "                        0.2158, 0.2154, 0.2143, 0.2133, 0.2116, 0.2114, 0.2108, 0.2097, 0.2077,\n",
      "                        0.2062, 0.2054, 0.2048, 0.2047, 0.2044, 0.2039, 0.2037, 0.2024, 0.2021,\n",
      "                        0.2016, 0.2013, 0.2011, 0.2004, 0.2000, 0.1994, 0.1989, 0.1988, 0.1984,\n",
      "                        0.1959, 0.1945, 0.1923, 0.1917, 0.1915, 0.1914, 0.1914, 0.1903, 0.1900,\n",
      "                        0.1896, 0.1895, 0.1877, 0.1844, 0.1833, 0.1825, 0.1816, 0.1809, 0.1807,\n",
      "                        0.1801, 0.1766, 0.1738, 0.1703, 0.1688, 0.1679, 0.1652, 0.1651, 0.1650,\n",
      "                        0.1648, 0.1645, 0.1641, 0.1634, 0.1628, 0.1627, 0.1619, 0.1614, 0.1609,\n",
      "                        0.1604, 0.1603, 0.1602, 0.1575, 0.1568, 0.1563, 0.1557, 0.1556, 0.1556,\n",
      "                        0.1546, 0.1530, 0.1525, 0.1519, 0.1518, 0.1490, 0.1488, 0.1478, 0.1477,\n",
      "                        0.1474, 0.1469], device='cuda:0')\n",
      "        ) at 0x7f6c4c951040>\n",
      "    ignored_instances: <InstanceData(\n",
      "        \n",
      "            META INFORMATION\n",
      "        \n",
      "            DATA FIELDS\n",
      "            labels: tensor([], device='cuda:0', dtype=torch.int64)\n",
      "            bboxes: tensor([], device='cuda:0', size=(0, 5))\n",
      "        ) at 0x7f6c4c523910>\n",
      "    gt_instances: <InstanceData(\n",
      "        \n",
      "            META INFORMATION\n",
      "        \n",
      "            DATA FIELDS\n",
      "            labels: tensor([], device='cuda:0', dtype=torch.int64)\n",
      "            bboxes: tensor([], device='cuda:0', size=(0, 5))\n",
      "        ) at 0x7f6c4c523940>\n",
      ") at 0x7f6d73cf0d00>\n"
     ]
    }
   ],
   "source": [
    "## inference 진행시에 test pipeline 거치기 때문에 test pipeline을 학습시에도 미리 set해두기 (5120,5120)\n",
    "## 계획 ==> 이미지를 1024 patch로 640 stride로 inference\n",
    "from mmrotate.apis import inference_detector_by_patches\n",
    "\n",
    "import cv2\n",
    "img = cv2.imread('container_dataset/valid_images/OBJ00607_PS3_K3_NIA0086.png')\n",
    "\n",
    "\n",
    "results=inference_detector_by_patches(model, img, [1024], [640], [1.0], dict(type='nms_rotated', iou_threshold=0.1))\n",
    "\n",
    "print(results)\n",
    "# Let's plot the result\n",
    "# show_result_pyplot(model, img, result, score_thr=0.3, palette='dota')"
   ]
  },
  {
   "cell_type": "code",
   "execution_count": 5,
   "id": "4f40b1de-cd8c-4a0e-93ef-53d8a551e889",
   "metadata": {},
   "outputs": [],
   "source": [
    "import math\n",
    "import numpy as np\n",
    "def convert_xywha_to_8coords(xywha, is_clockwise=True):\n",
    "    x, y, w, h, a = xywha\n",
    "    angle = a if is_clockwise else -a\n",
    "\n",
    "    lt_x, lt_y = -w / 2, -h / 2\n",
    "    rt_x, rt_y = w / 2, - h/ 2\n",
    "    rb_x, rb_y = w / 2, h / 2\n",
    "    lb_x, lb_y = - w / 2, h / 2\n",
    "\n",
    "    lt_x_ = lt_x * math.cos(angle) - lt_y * math.sin(angle) + x\n",
    "    lt_y_ = lt_x * math.sin(angle) + lt_y * math.cos(angle) + y\n",
    "    rt_x_ = rt_x * math.cos(angle) - rt_y * math.sin(angle) + x\n",
    "    rt_y_ = rt_x * math.sin(angle) + rt_y * math.cos(angle) + y\n",
    "    lb_x_ = lb_x * math.cos(angle) - lb_y * math.sin(angle) + x\n",
    "    lb_y_ = lb_x * math.sin(angle) + lb_y * math.cos(angle) + y\n",
    "    rb_x_ = rb_x * math.cos(angle) - rb_y * math.sin(angle) + x\n",
    "    rb_y_ = rb_x * math.sin(angle) + rb_y * math.cos(angle) + y\n",
    "\n",
    "    return [lt_x_, lt_y_, rt_x_, rt_y_, rb_x_, rb_y_, lb_x_, lb_y_]"
   ]
  },
  {
   "cell_type": "code",
   "execution_count": 6,
   "id": "77e28c25-ca79-4b70-a654-5d5e6d0ace5c",
   "metadata": {},
   "outputs": [],
   "source": [
    "test_r = results.pred_instances.bboxes[0].cpu().numpy()"
   ]
  },
  {
   "cell_type": "code",
   "execution_count": 7,
   "id": "408241c5-031a-4acd-b92a-ccd1ef85ea5a",
   "metadata": {},
   "outputs": [
    {
     "name": "stdout",
     "output_type": "stream",
     "text": [
      "[[[459 334]]\n",
      "\n",
      " [[475 339]]\n",
      "\n",
      " [[473 346]]\n",
      "\n",
      " [[457 341]]]\n"
     ]
    }
   ],
   "source": [
    "test_pos = convert_xywha_to_8coords(test_r)\n",
    "test_pos = list(map(int,test_pos))\n",
    "test_pos = np.array([[test_pos[0:2]], [test_pos[2:4]], [test_pos[4:6]], [test_pos[6:8]]], np.int32)\n",
    "print(test_pos)\n"
   ]
  },
  {
   "cell_type": "code",
   "execution_count": 8,
   "id": "a917237a-cb00-45c6-8978-aecb08d93643",
   "metadata": {},
   "outputs": [],
   "source": [
    "img = cv2.polylines(img, [test_pos], True, (255, 255, 255), 2)"
   ]
  },
  {
   "cell_type": "code",
   "execution_count": 9,
   "id": "c10b8dee-b927-4989-a359-e7bed55569b8",
   "metadata": {},
   "outputs": [
    {
     "data": {
      "text/plain": [
       "True"
      ]
     },
     "execution_count": 9,
     "metadata": {},
     "output_type": "execute_result"
    }
   ],
   "source": [
    "cv2.imwrite('check.png',img)"
   ]
  },
  {
   "cell_type": "code",
   "execution_count": null,
   "id": "2613dcf6-9965-485e-9ec1-6e1256e8bc51",
   "metadata": {},
   "outputs": [],
   "source": []
  }
 ],
 "metadata": {
  "kernelspec": {
   "display_name": "Python 3 (ipykernel)",
   "language": "python",
   "name": "python3"
  },
  "language_info": {
   "codemirror_mode": {
    "name": "ipython",
    "version": 3
   },
   "file_extension": ".py",
   "mimetype": "text/x-python",
   "name": "python",
   "nbconvert_exporter": "python",
   "pygments_lexer": "ipython3",
   "version": "3.8.17"
  }
 },
 "nbformat": 4,
 "nbformat_minor": 5
}
