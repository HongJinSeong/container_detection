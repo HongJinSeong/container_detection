{
 "cells": [
  {
   "cell_type": "code",
   "execution_count": 1,
   "id": "bbdd3433-e3cd-4f7b-87ea-5120cd054652",
   "metadata": {
    "tags": []
   },
   "outputs": [
    {
     "name": "stdout",
     "output_type": "stream",
     "text": [
      "1.0.0rc1\n",
      "3.1.0\n",
      "11.1\n",
      "GCC 7.3\n"
     ]
    }
   ],
   "source": [
    "## mmrotate1.x기반으로 진행 \n",
    "# Check MMRotate installation\n",
    "import mmrotate\n",
    "print(mmrotate.__version__)\n",
    "# Check MMDetection installation\n",
    "import mmdet\n",
    "print(mmdet.__version__)\n",
    "\n",
    "# Check mmcv installation\n",
    "from mmcv.ops import get_compiling_cuda_version, get_compiler_version\n",
    "print(get_compiling_cuda_version())\n",
    "print(get_compiler_version())"
   ]
  },
  {
   "cell_type": "code",
   "execution_count": 2,
   "id": "63f90fd1-d867-475a-b1cd-f85e68af320e",
   "metadata": {},
   "outputs": [],
   "source": [
    "## config LOAD\n",
    "from mmengine.config import Config\n",
    "cfg = Config.fromfile('custom_CONFIG_HJS_VER1.py')"
   ]
  },
  {
   "cell_type": "code",
   "execution_count": 3,
   "id": "66d5b3e4-9e9e-4ed5-9de5-62fe959d3d38",
   "metadata": {},
   "outputs": [
    {
     "name": "stdout",
     "output_type": "stream",
     "text": [
      "Loads checkpoint by local backend from path: best_weight/epoch_1260.pth\n"
     ]
    }
   ],
   "source": [
    "from mmdet.apis import init_detector, inference_detector\n",
    "import mmrotate\n",
    "\n",
    "checkpoint_file = 'best_weight/epoch_1260.pth'\n",
    "model = init_detector(cfg, checkpoint_file, device='cuda:0')"
   ]
  },
  {
   "cell_type": "code",
   "execution_count": 4,
   "id": "4fdae03b-4b3f-482b-9270-8fb396695d59",
   "metadata": {},
   "outputs": [],
   "source": [
    "import json\n",
    "import glob as _glob\n",
    "import os\n",
    "import random\n",
    "import math\n",
    "import numpy as np\n",
    "import csv\n",
    "\n",
    "def glob(dir, pats, recursive=False):  # faster than match, python3 only\n",
    "    pats = pats if isinstance(pats, (list, tuple)) else [pats]\n",
    "    matches = []\n",
    "    for pat in pats:\n",
    "        matches += _glob.glob(os.path.join(dir, pat), recursive=recursive)\n",
    "    return matches\n",
    "\n",
    "csv.register_dialect(\n",
    "    'mydialect',\n",
    "    delimiter = ',',\n",
    "    quotechar = '\"',\n",
    "    doublequote = True,\n",
    "    skipinitialspace = True,\n",
    "    lineterminator = '\\r\\n',\n",
    "    quoting = csv.QUOTE_MINIMAL)\n",
    "\n",
    "def writecsv(csvname,contents):\n",
    "    f = open(csvname, 'a', newline='')\n",
    "    wr = csv.writer(f)\n",
    "    wr.writerow(contents)\n",
    "    f.close()\n",
    "\n",
    "### 모델 output은 각도를 포함한 5개의 값으로 구성되어있기 때문에 이를 DOTA 형대의 데이터로 되돌려줌 \n",
    "def convert_xywha_to_8coords(xywha, is_clockwise=True):\n",
    "    x, y, w, h, a = xywha\n",
    "    angle = a if is_clockwise else -a\n",
    "\n",
    "    lt_x, lt_y = -w / 2, -h / 2\n",
    "    rt_x, rt_y = w / 2, - h/ 2\n",
    "    rb_x, rb_y = w / 2, h / 2\n",
    "    lb_x, lb_y = - w / 2, h / 2\n",
    "\n",
    "    lt_x_ = lt_x * math.cos(angle) - lt_y * math.sin(angle) + x\n",
    "    lt_y_ = lt_x * math.sin(angle) + lt_y * math.cos(angle) + y\n",
    "    rt_x_ = rt_x * math.cos(angle) - rt_y * math.sin(angle) + x\n",
    "    rt_y_ = rt_x * math.sin(angle) + rt_y * math.cos(angle) + y\n",
    "    lb_x_ = lb_x * math.cos(angle) - lb_y * math.sin(angle) + x\n",
    "    lb_y_ = lb_x * math.sin(angle) + lb_y * math.cos(angle) + y\n",
    "    rb_x_ = rb_x * math.cos(angle) - rb_y * math.sin(angle) + x\n",
    "    rb_y_ = rb_x * math.sin(angle) + rb_y * math.cos(angle) + y\n",
    "\n",
    "    return [lt_x_, lt_y_, rt_x_, rt_y_, rb_x_, rb_y_, lb_x_, lb_y_]"
   ]
  },
  {
   "cell_type": "code",
   "execution_count": 5,
   "id": "a4d2d786-7fee-4166-b8e5-00a2dd6fc143",
   "metadata": {},
   "outputs": [
    {
     "data": {
      "text/plain": [
       "['container_dataset/valid_images/OBJ00607_PS3_K3_NIA0086.png',\n",
       " 'container_dataset/valid_images/OBJ01347_PS3_K3_NIA0092.png',\n",
       " 'container_dataset/valid_images/OBJ01357_PS3_K3_NIA0092.png',\n",
       " 'container_dataset/valid_images/OBJ01527_PS3_K3_NIA0095.png',\n",
       " 'container_dataset/valid_images/OBJ01675_PS3_K3_NIA0102.png']"
      ]
     },
     "execution_count": 5,
     "metadata": {},
     "output_type": "execute_result"
    }
   ],
   "source": [
    "all_imgs = glob('container_dataset/valid_images','*.png')\n",
    "all_imgs.sort()\n",
    "all_imgs[:5]"
   ]
  },
  {
   "cell_type": "code",
   "execution_count": null,
   "id": "700566fc-5115-4b38-95eb-f8f98ba98d18",
   "metadata": {},
   "outputs": [],
   "source": [
    "from mmrotate.apis import inference_detector_by_patches\n",
    "import pandas as pd\n",
    "output_file_nm = 'result.csv'\n",
    "\n",
    "writecsv(output_file_nm, ['File', 'Confidence', 'X1', 'Y1', 'X2', 'Y2', 'X3', 'Y3', 'X4' ,'Y4'])\n",
    "\n",
    "nn = 0\n",
    "for img_nm in all_imgs:\n",
    "    #### patch 단위로 inference 진행\n",
    "    results=inference_detector_by_patches(model, img_nm, [1024], [512], [3, 4, 5], dict(type='nms_rotated', iou_threshold=0.1))\n",
    "    \n",
    "    File = img_nm.split('/')[-1][:8]\n",
    "    for i in range(results.pred_instances.scores.shape[0]):\n",
    "        ## Confidence Score가 0.1 이상인경우만 사용 \n",
    "        ## 본 대회의 평가 메트릭은 AP(Average Precision)로, 모델의 출력 결과에서 Confidence Score를 통해 임계 처리를 할 때 임계값은 0.1만 가능합니다.\n",
    "        if results.pred_instances.scores[i] >= 0.1:\n",
    "            coords_dotaformat = convert_xywha_to_8coords(results.pred_instances.bboxes[i].cpu().numpy())\n",
    "            coords_dotaformat = np.clip(coords_dotaformat,0,1024)\n",
    "            writecsv(output_file_nm, [File]+[results.pred_instances.scores[i].cpu().numpy()]+list(coords_dotaformat))\n",
    "    nn+=1\n",
    "    if nn%10==0:\n",
    "        print(nn,' END!')\n",
    "\n"
   ]
  },
  {
   "cell_type": "code",
   "execution_count": null,
   "id": "56511209-7450-4790-979e-fe3e13fc409c",
   "metadata": {},
   "outputs": [],
   "source": []
  },
  {
   "cell_type": "code",
   "execution_count": null,
   "id": "706e518d-14a3-4d1c-bc4a-429e567db605",
   "metadata": {},
   "outputs": [],
   "source": []
  }
 ],
 "metadata": {
  "kernelspec": {
   "display_name": "Python 3 (ipykernel)",
   "language": "python",
   "name": "python3"
  },
  "language_info": {
   "codemirror_mode": {
    "name": "ipython",
    "version": 3
   },
   "file_extension": ".py",
   "mimetype": "text/x-python",
   "name": "python",
   "nbconvert_exporter": "python",
   "pygments_lexer": "ipython3",
   "version": "3.8.17"
  }
 },
 "nbformat": 4,
 "nbformat_minor": 5
}
